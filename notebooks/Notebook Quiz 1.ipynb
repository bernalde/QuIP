{
 "metadata": {
  "language_info": {
   "codemirror_mode": {
    "name": "ipython",
    "version": 3
   },
   "file_extension": ".py",
   "mimetype": "text/x-python",
   "name": "python",
   "nbconvert_exporter": "python",
   "pygments_lexer": "ipython3",
   "version": "3.7.7-final"
  },
  "orig_nbformat": 2,
  "kernelspec": {
   "name": "python_defaultSpec_1599597913137",
   "display_name": "Python 3.7.7 64-bit ('xomibm': conda)"
  }
 },
 "nbformat": 4,
 "nbformat_minor": 2,
 "cells": [
  {
   "cell_type": "markdown",
   "metadata": {},
   "source": [
    "# Quantum Integer Programming (QuIP) 47-779. Fall 2020, CMU"
   ]
  },
  {
   "cell_type": "markdown",
   "metadata": {},
   "source": [
    "This notebook contains material from the Quantum Integer Programming Lecture at CMU Fall 2020 by David Bernal (bernalde at cmu.edu), Sridhar Tayur (stayur at cmu.edu) and Davide Venturelli; the content is available on **[Github](https://github.com/bernalde/QuIP)**. The text is released under the **[CC-BY-NC-ND-4.0](https://creativecommons.org/licenses/by-nc-nd/4.0/legalcode) license, and code is released under the **[MIT license](https://opensource.org/licenses/MIT).*\n",
    "\n",
    "Run in **[Google Colab](https://colab.research.google.com/github/bernalde/QuIP/blob/master/notebooks/Notebook%20Quiz%201.ipynb)**"
   ]
  },
  {
   "cell_type": "markdown",
   "metadata": {},
   "source": [
    "## Quiz 1 Mathematical programming\n",
    "Here we will model an exercise given in the lecture. This example will use as modeling language **[Pyomo](http://www.pyomo.org/)**, an open-source Python package, which provides a flexible access to different solvers and a general modeling framework for linear and nonlinear integer programs.\n",
    "The examples solved here will make use of open-source solvers **[CLP/CBC](https://projects.coin-or.org/Cbc)** for linear and mixed-integer linear programming, **[BONMIN](https://www.coin-or.org/Bonmin/)** for convex integer nonlinear programming and **[COUENNE](https://projects.coin-or.org/Couenne)** for nonconvex (global) integer nonlinear programming."
   ]
  },
  {
   "cell_type": "markdown",
   "metadata": {},
   "source": [
    "### Problem statement\n",
    "#### Integer linear program\n",
    "Solve the following problem\n",
    "$$\n",
    "\\min_{\\mathbf{x}} 2𝑥_0+4𝑥_1+4𝑥_2+4𝑥_3+4𝑥_4+4𝑥_5+5𝑥_6+4𝑥_7+5𝑥_8+6𝑥_9+5𝑥_{10} \\\\\n",
    "s.t. \\begin{bmatrix}\n",
    "1 & 0 & 0 & 1 & 1 & 1 & 0 & 1 & 1 & 1 & 1\\\\\n",
    "0 & 1 & 0 & 1 & 0 & 1 & 1 & 0 & 1 & 1 & 1\\\\\n",
    "0 & 0 & 1 & 0 & 1 & 0 & 1 & 1 & 1 & 1 & 1\n",
    "\\end{bmatrix}\\mathbf{x}=\n",
    "\\begin{bmatrix}\n",
    "1\\\\\n",
    "1\\\\\n",
    "1\n",
    "\\end{bmatrix} \\\\\n",
    "\\mathbf{x} \\in \\{0,1 \\}^{11}\n",
    "$$\n",
    "Equivalently written as\n",
    "\n",
    "$$\n",
    "\\min_{\\mathbf{x}} \\mathbf{c}^\\top \\mathbf{x}\\\\\n",
    "s.t. \\mathbf{A}\\mathbf{x}=\\mathbf{b} \\\\\n",
    "\\mathbf{x} \\in \\{0,1 \\}^{11}\n",
    "$$"
   ]
  },
  {
   "cell_type": "code",
   "execution_count": 1,
   "metadata": {},
   "outputs": [],
   "source": [
    "# If using this on Google collab, we need to install the packages\n",
    "try:\n",
    "  import google.colab\n",
    "  IN_COLAB = True\n",
    "except:\n",
    "  IN_COLAB = False\n",
    "\n",
    "# Let's start with Pyomo\n",
    "if IN_COLAB:\n",
    "    !pip install -q pyomo"
   ]
  },
  {
   "cell_type": "code",
   "execution_count": 2,
   "metadata": {},
   "outputs": [],
   "source": [
    "# Import the Pyomo library, which can be installed via pip, conda or from Github https://github.com/Pyomo/pyomo\n",
    "import pyomo.environ as pyo\n",
    "# Import Matplotlib to generate plots\n",
    "import matplotlib.pyplot as plt\n",
    "# Import numpy and scipy for certain numerical calculations below\n",
    "import numpy as np\n",
    "from scipy.special import gamma\n",
    "import math"
   ]
  },
  {
   "cell_type": "code",
   "execution_count": 3,
   "metadata": {
    "tags": []
   },
   "outputs": [
    {
     "output_type": "stream",
     "name": "stdout",
     "text": "2 Set Declarations\n    constraints_index : Size=1, Index=None, Ordered=Insertion\n        Key  : Dimen : Domain : Size : Members\n        None :     1 :    Any :    3 : {1, 2, 3}\n    x_index : Size=1, Index=None, Ordered=False\n        Key  : Dimen : Domain : Size : Members\n        None :     1 :    Any :   11 : {0, 1, 2, 3, 4, 5, 6, 7, 8, 9, 10}\n\n1 Var Declarations\n    x : Size=11, Index=x_index\n        Key : Lower : Value : Upper : Fixed : Stale : Domain\n          0 :     0 :  None :     1 : False :  True : Binary\n          1 :     0 :  None :     1 : False :  True : Binary\n          2 :     0 :  None :     1 : False :  True : Binary\n          3 :     0 :  None :     1 : False :  True : Binary\n          4 :     0 :  None :     1 : False :  True : Binary\n          5 :     0 :  None :     1 : False :  True : Binary\n          6 :     0 :  None :     1 : False :  True : Binary\n          7 :     0 :  None :     1 : False :  True : Binary\n          8 :     0 :  None :     1 : False :  True : Binary\n          9 :     0 :  None :     1 : False :  True : Binary\n         10 :     0 :  None :     1 : False :  True : Binary\n\n1 Objective Declarations\n    objective : Size=1, Index=None, Active=True\n        Key  : Active : Sense    : Expression\n        None :   True : minimize : 2*x[0] + 4*x[1] + 4*x[2] + 4*x[3] + 4*x[4] + 4*x[5] + 5*x[6] + 4*x[7] + 5*x[8] + 6*x[9] + 5*x[10]\n\n1 Constraint Declarations\n    constraints : Size=3, Index=constraints_index, Active=True\n        Key : Lower : Body                                                   : Upper : Active\n          1 :   1.0 : x[0] + x[3] + x[4] + x[5] + x[7] + x[8] + x[9] + x[10] :   1.0 :   True\n          2 :   1.0 :        x[1] + x[3] + x[5] + x[6] + x[8] + x[9] + x[10] :   1.0 :   True\n          3 :   1.0 :        x[2] + x[4] + x[6] + x[7] + x[8] + x[9] + x[10] :   1.0 :   True\n\n5 Declarations: x_index x constraints_index constraints objective\n"
    }
   ],
   "source": [
    "# Define the model\n",
    "model = pyo.ConcreteModel(name='Quiz 1, 47-779 QuIP')\n",
    "# Define the problem data\n",
    "A = np.array([[1, 0, 0, 1, 1, 1, 0, 1, 1, 1, 1],\n",
    "            [0, 1, 0, 1, 0, 1, 1, 0, 1, 1, 1],\n",
    "            [0, 0, 1, 0, 1, 0, 1, 1, 1, 1, 1]])\n",
    "b = np.array([1, 1, 1])\n",
    "c = np.array([2, 4, 4, 4, 4, 4, 5, 4, 5,6, 5])\n",
    "\n",
    "# set of row indices\n",
    "I = range(len(A))\n",
    "# set of column indices\n",
    "J = range(len(A.T))\n",
    "\n",
    "#Define the variables (here we have everything using Python's 0-based counting, sorry)\n",
    "model.x = pyo.Var(J, domain=pyo.Binary)\n",
    "\n",
    "# add model constraints\n",
    "model.constraints = pyo.ConstraintList()\n",
    "for i in I:\n",
    "    model.constraints.add(sum(A[i,j]*model.x[j] for j in J) == b[i])\n",
    "\n",
    "# Define the objective function\n",
    "model.objective = pyo.Objective(expr = sum(c[j]*model.x[j] for j in J), sense=pyo.minimize)\n",
    "# Print the model\n",
    "model.pprint()"
   ]
  },
  {
   "cell_type": "code",
   "execution_count": 4,
   "metadata": {},
   "outputs": [],
   "source": [
    "# Let's install the LP/MIP solver CBC\n",
    "if IN_COLAB:\n",
    "    !apt-get install -y -qq coinor-cbc"
   ]
  },
  {
   "cell_type": "code",
   "execution_count": 5,
   "metadata": {},
   "outputs": [],
   "source": [
    "# Define the solver GLPK\n",
    "if IN_COLAB:\n",
    "    opt_cbc = pyo.SolverFactory('cbc', executable='/usr/bin/cbc')\n",
    "else:\n",
    "    opt_cbc = pyo.SolverFactory('cbc')\n",
    "# Here we could use another solver, e.g. gurobi or cplex\n",
    "# opt_gurobi = pyo.SolverFactory('gurobi')"
   ]
  },
  {
   "cell_type": "code",
   "execution_count": 6,
   "metadata": {
    "tags": []
   },
   "outputs": [
    {
     "output_type": "stream",
     "name": "stdout",
     "text": "Model Quiz 1, 47-779 QuIP\n\n  Variables:\n    x : Size=11, Index=x_index\n        Key : Lower : Value : Upper : Fixed : Stale : Domain\n          0 :     0 :   0.0 :     1 : False : False : Binary\n          1 :     0 :   0.0 :     1 : False : False : Binary\n          2 :     0 :   0.0 :     1 : False : False : Binary\n          3 :     0 :   0.0 :     1 : False : False : Binary\n          4 :     0 :   0.0 :     1 : False : False : Binary\n          5 :     0 :   0.0 :     1 : False : False : Binary\n          6 :     0 :   0.0 :     1 : False : False : Binary\n          7 :     0 :   0.0 :     1 : False : False : Binary\n          8 :     0 :   0.0 :     1 : False : False : Binary\n          9 :     0 :   0.0 :     1 : False : False : Binary\n         10 :     0 :   1.0 :     1 : False : False : Binary\n\n  Objectives:\n    objective : Size=1, Index=None, Active=True\n        Key  : Active : Value\n        None :   True :   5.0\n\n  Constraints:\n    constraints : Size=3\n        Key : Lower : Body : Upper\n          1 :   1.0 :  1.0 :   1.0\n          2 :   1.0 :  1.0 :   1.0\n          3 :   1.0 :  1.0 :   1.0\n"
    }
   ],
   "source": [
    "# We solve the problem with CBC\n",
    "result_obj = opt_cbc.solve(model, tee=False)\n",
    "model.display()"
   ]
  },
  {
   "cell_type": "markdown",
   "metadata": {},
   "source": [
    "We observe that the optimal solution of this problem is $x_{10} = 1, 0$ otherwise, leading to an objective of $5$. Notice that this problem has a degenerate optimal solution given that $x_8 = 1, 0$ otherwise also leads to the same solution.\n",
    "\n"
   ]
  },
  {
   "cell_type": "markdown",
   "metadata": {},
   "source": [
    "### Integer convex nonlinear programming\n",
    "Now solve\n",
    "$$\n",
    "\\max_{\\mathbf{x}} \\sum_i exp(c_i x_i^2)\\\\\n",
    "s.t. \\mathbf{A}\\mathbf{x}=\\mathbf{b} \\\\\n",
    "\\mathbf{x} \\in \\{0,1 \\}^{11}\n",
    "$$"
   ]
  },
  {
   "cell_type": "code",
   "execution_count": 7,
   "metadata": {
    "tags": []
   },
   "outputs": [
    {
     "output_type": "stream",
     "name": "stdout",
     "text": "2 Set Declarations\n    constraints_index : Size=1, Index=None, Ordered=Insertion\n        Key  : Dimen : Domain : Size : Members\n        None :     1 :    Any :    3 : {1, 2, 3}\n    x_index : Size=1, Index=None, Ordered=False\n        Key  : Dimen : Domain : Size : Members\n        None :     1 :    Any :   11 : {0, 1, 2, 3, 4, 5, 6, 7, 8, 9, 10}\n\n1 Var Declarations\n    x : Size=11, Index=x_index\n        Key : Lower : Value : Upper : Fixed : Stale : Domain\n          0 :     0 :  None :     1 : False :  True : Binary\n          1 :     0 :  None :     1 : False :  True : Binary\n          2 :     0 :  None :     1 : False :  True : Binary\n          3 :     0 :  None :     1 : False :  True : Binary\n          4 :     0 :  None :     1 : False :  True : Binary\n          5 :     0 :  None :     1 : False :  True : Binary\n          6 :     0 :  None :     1 : False :  True : Binary\n          7 :     0 :  None :     1 : False :  True : Binary\n          8 :     0 :  None :     1 : False :  True : Binary\n          9 :     0 :  None :     1 : False :  True : Binary\n         10 :     0 :  None :     1 : False :  True : Binary\n\n1 Objective Declarations\n    objective : Size=1, Index=None, Active=True\n        Key  : Active : Sense    : Expression\n        None :   True : minimize : exp(2*x[0]*x[0]) + exp(4*x[1]*x[1]) + exp(4*x[2]*x[2]) + exp(4*x[3]*x[3]) + exp(4*x[4]*x[4]) + exp(4*x[5]*x[5]) + exp(5*x[6]*x[6]) + exp(4*x[7]*x[7]) + exp(5*x[8]*x[8]) + exp(6*x[9]*x[9]) + exp(5*x[10]*x[10])\n\n1 Constraint Declarations\n    constraints : Size=3, Index=constraints_index, Active=True\n        Key : Lower : Body                                                   : Upper : Active\n          1 :   1.0 : x[0] + x[3] + x[4] + x[5] + x[7] + x[8] + x[9] + x[10] :   1.0 :   True\n          2 :   1.0 :        x[1] + x[3] + x[5] + x[6] + x[8] + x[9] + x[10] :   1.0 :   True\n          3 :   1.0 :        x[2] + x[4] + x[6] + x[7] + x[8] + x[9] + x[10] :   1.0 :   True\n\n5 Declarations: x_index x constraints_index constraints objective\n"
    }
   ],
   "source": [
    "# Define the model\n",
    "model_icnlp = pyo.ConcreteModel(name='Quiz 1 convex nonlinear, 47-779 QuIP')\n",
    "\n",
    "#Define the variables (here we have everything using Python's 0-based counting, sorry)\n",
    "model_icnlp.x = pyo.Var(J, domain=pyo.Binary)\n",
    "\n",
    "# add model constraints\n",
    "model_icnlp.constraints = pyo.ConstraintList()\n",
    "for i in I:\n",
    "    model_icnlp.constraints.add(sum(A[i,j]*model_icnlp.x[j] for j in J) == b[i])\n",
    "\n",
    "# Define the objective function\n",
    "model_icnlp.objective = pyo.Objective(expr = sum(pyo.exp(c[j]*model_icnlp.x[j]*model_icnlp.x[j]) for j in J), sense=pyo.minimize)\n",
    "# Print the model\n",
    "model_icnlp.pprint()"
   ]
  },
  {
   "cell_type": "code",
   "execution_count": 8,
   "metadata": {
    "tags": []
   },
   "outputs": [],
   "source": [
    "# Define the solver BONMIN\n",
    "if IN_COLAB:\n",
    "    !wget -N -q \"https://ampl.com/dl/open/bonmin/bonmin-linux64.zip\"\n",
    "    !unzip -o -q bonmin-linux64\n",
    "    \n",
    "opt_bonmin = pyo.SolverFactory('bonmin', executable='/content/bonmin')"
   ]
  },
  {
   "cell_type": "code",
   "execution_count": 9,
   "metadata": {
    "tags": []
   },
   "outputs": [
    {
     "output_type": "stream",
     "name": "stdout",
     "text": "Model Quiz 1 convex nonlinear, 47-779 QuIP\n\n  Variables:\n    x : Size=11, Index=x_index\n        Key : Lower : Value : Upper : Fixed : Stale : Domain\n          0 :     0 :   0.0 :     1 : False : False : Binary\n          1 :     0 :   0.0 :     1 : False : False : Binary\n          2 :     0 :   1.0 :     1 : False : False : Binary\n          3 :     0 :   0.0 :     1 : False : False : Binary\n          4 :     0 :   0.0 :     1 : False : False : Binary\n          5 :     0 :   1.0 :     1 : False : False : Binary\n          6 :     0 :   0.0 :     1 : False : False : Binary\n          7 :     0 :   0.0 :     1 : False : False : Binary\n          8 :     0 :   0.0 :     1 : False : False : Binary\n          9 :     0 :   0.0 :     1 : False : False : Binary\n         10 :     0 :   0.0 :     1 : False : False : Binary\n\n  Objectives:\n    objective : Size=1, Index=None, Active=True\n        Key  : Active : Value\n        None :   True : 118.19630006628847\n\n  Constraints:\n    constraints : Size=3\n        Key : Lower : Body : Upper\n          1 :   1.0 :  1.0 :   1.0\n          2 :   1.0 :  1.0 :   1.0\n          3 :   1.0 :  1.0 :   1.0\n"
    }
   ],
   "source": [
    "# Here we solve the optimization problem, the option tee=True prints the solver output\n",
    "result_obj_icnlp = opt_bonmin.solve(model_icnlp, tee=False)\n",
    "model_icnlp.display()"
   ]
  },
  {
   "cell_type": "markdown",
   "metadata": {},
   "source": [
    "In this case the optimal solution becomes $x_2 = 1, x_5 = 1$ with an objective of $118.2$. This solution is also degenerate."
   ]
  },
  {
   "cell_type": "markdown",
   "metadata": {},
   "source": [
    "### Integer non-convex programming\n",
    "Now solve\n",
    "$$\n",
    "\\max_{\\mathbf{x}} \\sum_i log(c_i + x_i)\\\\\n",
    "s.t. \\mathbf{A}\\mathbf{x}=\\mathbf{b} \\\\\n",
    "\\mathbf{x} \\in \\{0,1 \\}^{11}\n",
    "$$"
   ]
  },
  {
   "cell_type": "code",
   "execution_count": 10,
   "metadata": {
    "tags": []
   },
   "outputs": [
    {
     "output_type": "stream",
     "name": "stdout",
     "text": "2 Set Declarations\n    constraints_index : Size=1, Index=None, Ordered=Insertion\n        Key  : Dimen : Domain : Size : Members\n        None :     1 :    Any :    3 : {1, 2, 3}\n    x_index : Size=1, Index=None, Ordered=False\n        Key  : Dimen : Domain : Size : Members\n        None :     1 :    Any :   11 : {0, 1, 2, 3, 4, 5, 6, 7, 8, 9, 10}\n\n1 Var Declarations\n    x : Size=11, Index=x_index\n        Key : Lower : Value : Upper : Fixed : Stale : Domain\n          0 :     0 :  None :     1 : False :  True : Binary\n          1 :     0 :  None :     1 : False :  True : Binary\n          2 :     0 :  None :     1 : False :  True : Binary\n          3 :     0 :  None :     1 : False :  True : Binary\n          4 :     0 :  None :     1 : False :  True : Binary\n          5 :     0 :  None :     1 : False :  True : Binary\n          6 :     0 :  None :     1 : False :  True : Binary\n          7 :     0 :  None :     1 : False :  True : Binary\n          8 :     0 :  None :     1 : False :  True : Binary\n          9 :     0 :  None :     1 : False :  True : Binary\n         10 :     0 :  None :     1 : False :  True : Binary\n\n1 Objective Declarations\n    objective : Size=1, Index=None, Active=True\n        Key  : Active : Sense    : Expression\n        None :   True : minimize : log(2 + x[0]) + log(4 + x[1]) + log(4 + x[2]) + log(4 + x[3]) + log(4 + x[4]) + log(4 + x[5]) + log(5 + x[6]) + log(4 + x[7]) + log(5 + x[8]) + log(6 + x[9]) + log(5 + x[10])\n\n1 Constraint Declarations\n    constraints : Size=3, Index=constraints_index, Active=True\n        Key : Lower : Body                                                   : Upper : Active\n          1 :   1.0 : x[0] + x[3] + x[4] + x[5] + x[7] + x[8] + x[9] + x[10] :   1.0 :   True\n          2 :   1.0 :        x[1] + x[3] + x[5] + x[6] + x[8] + x[9] + x[10] :   1.0 :   True\n          3 :   1.0 :        x[2] + x[4] + x[6] + x[7] + x[8] + x[9] + x[10] :   1.0 :   True\n\n5 Declarations: x_index x constraints_index constraints objective\n"
    }
   ],
   "source": [
    "# Define the model\n",
    "model_inlp = pyo.ConcreteModel(name='Quiz 1 convex nonlinear, 47-779 QuIP')\n",
    "\n",
    "#Define the variables (here we have everything using Python's 0-based counting, sorry)\n",
    "model_inlp.x = pyo.Var(J, domain=pyo.Binary)\n",
    "\n",
    "# add model constraints\n",
    "model_inlp.constraints = pyo.ConstraintList()\n",
    "for i in I:\n",
    "    model_inlp.constraints.add(sum(A[i,j]*model_inlp.x[j] for j in J) == b[i])\n",
    "\n",
    "# Define the objective function\n",
    "model_inlp.objective = pyo.Objective(expr = sum(pyo.log(c[j] + model_inlp.x[j]) for j in J), sense=pyo.minimize)\n",
    "# Print the model\n",
    "model_inlp.pprint()"
   ]
  },
  {
   "cell_type": "code",
   "execution_count": 11,
   "metadata": {
    "tags": []
   },
   "outputs": [
    {
     "output_type": "stream",
     "name": "stdout",
     "text": "Model Quiz 1 convex nonlinear, 47-779 QuIP\n\n  Variables:\n    x : Size=11, Index=x_index\n        Key : Lower : Value : Upper : Fixed : Stale : Domain\n          0 :     0 :   0.0 :     1 : False : False : Binary\n          1 :     0 :   0.0 :     1 : False : False : Binary\n          2 :     0 :   0.0 :     1 : False : False : Binary\n          3 :     0 :   0.0 :     1 : False : False : Binary\n          4 :     0 :   0.0 :     1 : False : False : Binary\n          5 :     0 :   0.0 :     1 : False : False : Binary\n          6 :     0 :   0.0 :     1 : False : False : Binary\n          7 :     0 :   0.0 :     1 : False : False : Binary\n          8 :     0 :   0.0 :     1 : False : False : Binary\n          9 :     0 :   1.0 :     1 : False : False : Binary\n         10 :     0 :   0.0 :     1 : False : False : Binary\n\n  Objectives:\n    objective : Size=1, Index=None, Active=True\n        Key  : Active : Value\n        None :   True : 15.785137233636902\n\n  Constraints:\n    constraints : Size=3\n        Key : Lower : Body : Upper\n          1 :   1.0 :  1.0 :   1.0\n          2 :   1.0 :  1.0 :   1.0\n          3 :   1.0 :  1.0 :   1.0\n"
    }
   ],
   "source": [
    "# Trying to solve the problem with BONMIN we might obtain the optimal solution, but we have no guarantees\n",
    "result_obj_inlp = opt_bonmin.solve(model_inlp, tee=False)\n",
    "model_inlp.display()"
   ]
  },
  {
   "cell_type": "code",
   "execution_count": 12,
   "metadata": {},
   "outputs": [],
   "source": [
    "# Define the solver COUENNE\n",
    "if IN_COLAB:\n",
    "    !wget -N -q \"https://ampl.com/dl/open/couenne/couenne-linux64.zip\"\n",
    "    !unzip -o -q couenne-linux64\n",
    "    \n",
    "opt_couenne = pyo.SolverFactory('couenne', executable='/content/couenne')"
   ]
  },
  {
   "cell_type": "code",
   "execution_count": 13,
   "metadata": {
    "tags": []
   },
   "outputs": [
    {
     "output_type": "stream",
     "name": "stdout",
     "text": "Model Quiz 1 convex nonlinear, 47-779 QuIP\n\n  Variables:\n    x : Size=11, Index=x_index\n        Key : Lower : Value : Upper : Fixed : Stale : Domain\n          0 :     0 :   0.0 :     1 : False : False : Binary\n          1 :     0 :   0.0 :     1 : False : False : Binary\n          2 :     0 :   0.0 :     1 : False : False : Binary\n          3 :     0 :   0.0 :     1 : False : False : Binary\n          4 :     0 :   0.0 :     1 : False : False : Binary\n          5 :     0 :   0.0 :     1 : False : False : Binary\n          6 :     0 :   0.0 :     1 : False : False : Binary\n          7 :     0 :   0.0 :     1 : False : False : Binary\n          8 :     0 :   0.0 :     1 : False : False : Binary\n          9 :     0 :   1.0 :     1 : False : False : Binary\n         10 :     0 :   0.0 :     1 : False : False : Binary\n\n  Objectives:\n    objective : Size=1, Index=None, Active=True\n        Key  : Active : Value\n        None :   True : 15.785137233636902\n\n  Constraints:\n    constraints : Size=3\n        Key : Lower : Body : Upper\n          1 :   1.0 :  1.0 :   1.0\n          2 :   1.0 :  1.0 :   1.0\n          3 :   1.0 :  1.0 :   1.0\n"
    }
   ],
   "source": [
    "# Trying to solve the problem with global MINLP solver COUENNE\n",
    "result_obj_ncinlp = opt_couenne.solve(model_inlp, tee=False)\n",
    "model_inlp.display()"
   ]
  },
  {
   "cell_type": "markdown",
   "metadata": {},
   "source": [
    "In this case the unique optimal solution becomes $x_9 = 1$ with an objective of $15.8$."
   ]
  },
  {
   "cell_type": "code",
   "execution_count": null,
   "metadata": {},
   "outputs": [],
   "source": []
  }
 ]
}