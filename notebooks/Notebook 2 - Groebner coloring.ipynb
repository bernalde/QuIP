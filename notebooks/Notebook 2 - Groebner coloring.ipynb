{
 "metadata": {
  "language_info": {
   "codemirror_mode": {
    "name": "ipython",
    "version": 3
   },
   "file_extension": ".py",
   "mimetype": "text/x-python",
   "name": "python",
   "nbconvert_exporter": "python",
   "pygments_lexer": "ipython3",
   "version": "3.7.7-final"
  },
  "orig_nbformat": 2,
  "kernelspec": {
   "name": "python_defaultSpec_1598337378698",
   "display_name": "Python 3.7.7 64-bit ('xomibm': conda)"
  }
 },
 "nbformat": 4,
 "nbformat_minor": 2,
 "cells": [
  {
   "cell_type": "markdown",
   "metadata": {},
   "source": [
    "# Quantum Integer Programming (QuIP) 47-779. Fall 2020, CMU"
   ]
  },
  {
   "cell_type": "markdown",
   "metadata": {},
   "source": [
    "## Introduction to Groebner basis computation\n",
    "### Applications\n",
    "The Gröbner bases method is an attractive tool in computer algebra and symbolic mathematics because it is relatively simple to understand and it can be applied to a wide variety of problems in mathematics and engineering.\n",
    "\n",
    "Let’s consider a set $F$ of multivariate polynomial equations over a field:\n",
    "\n",
    "$$\n",
    "F = \\{ f \\in \\mathrm{K}[x_1, \\ldots, x_n] \\}\n",
    "$$\n",
    "\n",
    "A Gröbner basis $G$ of $F$ with respect to a fixed ordering of monomials is another set of polynomial equations with certain nice properties that depend on the choice of the order of monomials and variables. $G$ will be structurally different from $F$, but has exactly the same set of solutions.\n",
    "\n",
    "The Gröbner bases theory tells us that:\n",
    "- problems that are difficult to solve using $F$ are easier to solve using $G$\n",
    "- there exists an algorithm for computing $G$ for arbitrary $F$\n",
    "\n",
    "We will take advantage of this and in the following subsections we will solve two interesting problems in graph theory and algebraic geometry by formulating those problems as systems of polynomial equations, computing Gröbner bases, and reading solutions from them.\n",
    "\n",
    "This example uses the package sympy (https://www.sympy.org/) for symbolic computation in Python and Networkx (https://networkx.github.io/) for network models/graphs."
   ]
  },
  {
   "cell_type": "markdown",
   "metadata": {},
   "source": [
    "#### Vertex $k$-coloring of graphs \n",
    "Given a graph $\\mathcal{G}(V, E)$, where $V$ is the set of vertices and $E$ is the set of edges of $\\mathcal{G}$, and a positive integer $k$, we ask if it is possible to assign a color to every vertex from $V$, such that adjacent vertices have different colors assigned. Moreover, if graph $\\mathcal{G}$ is $k$–colorable, we would like to enumerate all possible $k$–colorings this graph.\n",
    "\n",
    "We will solve this problem using the Gröbner bases method. First of all, we have to transform this graph–theoretical definition of $k$–coloring problem into a form that is understandable by the Gröbner bases machinery. This means we have to construct a system of polynomial equations that embeds the structure of a graph and constraints related to the $k$–coloring problem.\n",
    "\n",
    "We start by assigning a variable to each vertex. Given that $\\mathcal{G}$ has $n$ vertices, i.e. $|V| = n$, then we will introduce variables $x_1, \\ldots, x_n$. Next we will write a set of equations describing the fact that we allow assignment of one of $k$ possible colors to each vertex. The best approach currently known is to map colors to the $k$–th roots of unity, which are the solutions to the equation $x^k - 1 = 0$.\n",
    "\n",
    "Let $\\zeta = \\exp(\\frac{2\\pi\\mathrm{i}}{k})$ be a $k$–th root of unity. We map the colors $1, \\ldots, k$ to $1, \\zeta, \\ldots, \\zeta^{k-1}$. Then the statement that every vertex has to be assigned one of $k$ colors is equivalent to writing the following set of polynomial equations:\n",
    "\n",
    "$$F_k = \\{ x_i^k - 1 = 0 : i = 1, 2, \\ldots, n \\}$$\n",
    "We also require that two adjacent vertices $x_i$ and $x_j$ are assigned different colors. From the previous discussion we know that $x_i^k = 1$ and $x_j^k = 1$, so $x_i^k = x_j^k$ or, equivalently, $x_i^k - x_j^k = 0$. By factorization we obtain that:\n",
    "\n",
    "$$x_i^k - x_j^k = (x_i - x_j) \\cdot f(x_i, x_j) = 0$$\n",
    "where $f(x_i, x_j)$ is a bivariate polynomial of degree $k-1$ in both variables. Since we require that $x_i \\not= x_j$ then $x_i^k - x_j^k$ can vanish only when $f(x_i, x_j) = 0$. This allows us to write another set of polynomial equations:\n",
    "\n",
    "$$F_{\\mathcal{G}} = \\{ f(x_i, x_j) = 0 : (i, j) \\in E \\}$$\n",
    "Next we combine $F_k$ and $F_{\\mathcal{G}}$ into one system of equations $F$. The graph $\\mathcal{G}(V, E)$ is $k$-colorable if the Gröbner basis $G$ of $F$ is non-trivial, i.e., $G \\not= \\{1\\}$. If this is not the case, then the graph isn’t $k$–colorable. Otherwise the Gröbner basis gives us information about all possible $k$–colorings of $\\mathcal{G}$.\n",
    "\n",
    "Let’s now focus on a particular $k$–coloring where $k = 3$. In this case:\n",
    "\n",
    "$$F_3 = \\{ x_i^3 - 1 : i = 1, \\ldots, n \\}$$\n",
    "Using SymPy’s built–in multivariate polynomial factorization routine:"
   ]
  },
  {
   "cell_type": "code",
   "execution_count": 9,
   "metadata": {},
   "outputs": [],
   "source": [
    "from sympy import *\n",
    "import networkx as nx"
   ]
  },
  {
   "cell_type": "code",
   "execution_count": 2,
   "metadata": {},
   "outputs": [
    {
     "output_type": "execute_result",
     "data": {
      "text/plain": "(xi - xj)*(xi**2 + xi*xj + xj**2)",
      "text/latex": "$\\displaystyle \\left(\\xi - xj\\right) \\left(\\xi^{2} + \\xi xj + xj^{2}\\right)$"
     },
     "metadata": {},
     "execution_count": 2
    }
   ],
   "source": [
    "var('xi, xj')\n",
    "factor(xi**3 - xj**3)"
   ]
  },
  {
   "cell_type": "markdown",
   "metadata": {},
   "source": [
    "we derive the set of equations $F_{\\mathcal{G}}$ describing an admissible $3$–coloring of a graph:\n",
    "\n",
    "$$F_{\\mathcal{G}} = \\{ x_i^2 + x_i x_j + x_j^2 : (i, j) \\in E \\}$$\n",
    "At this point it is sufficient to compute the Gröbner basis $G$ of $F = F_3 \\cup F_{\\mathcal{G}}$ to find out if a graph $\\mathcal{G}$ is $3$–colorable, or not.\n",
    "\n",
    "Let’s see how this procedure works for a particular graph:\n",
    "\n"
   ]
  },
  {
   "cell_type": "code",
   "execution_count": 4,
   "metadata": {
    "tags": []
   },
   "outputs": [
    {
     "output_type": "stream",
     "name": "stdout",
     "text": "/bin/sh: 1: Syntax error: word unexpected (expecting \")\")\n"
    }
   ],
   "source": [
    "![title](./img/empty_graph.png)"
   ]
  },
  {
   "cell_type": "markdown",
   "metadata": {},
   "source": [
    "$\\mathcal{G}(V, E)$ has 12 vertices and 23 edges. We ask if the graph is $3$–colorable. Let’s first encode $V$ and $E$ using Python’s built–in data structures:"
   ]
  },
  {
   "cell_type": "code",
   "execution_count": 6,
   "metadata": {},
   "outputs": [],
   "source": [
    "V = range(1, 12+1)\n",
    "E = [(1,2),(2,3),(1,4),(1,6),(1,12),(2,5),(2,7),(3,8),(3,10),(4,11),(4,9),(5,6),(6,7),(7,8),(8,9),(9,10),(10,11),(11,12),(5,12),(5,9),(6,10),(7,11),(8,12)]"
   ]
  },
  {
   "cell_type": "markdown",
   "metadata": {},
   "source": [
    "We encoded the set of vertices as a list of consecutive integers and the set of edges as a list of tuples of adjacent vertex indices. Next we will transform the graph into an algebraic form by mapping vertices to variables and tuples of indices in tuples of variables:"
   ]
  },
  {
   "cell_type": "code",
   "execution_count": 7,
   "metadata": {},
   "outputs": [],
   "source": [
    "V = [ var('x%d' % i) for i in V ]\n",
    "E = [ (V[i-1], V[j-1]) for i, j in E ]"
   ]
  },
  {
   "cell_type": "markdown",
   "metadata": {},
   "source": [
    "As the last step of this construction we write equations for $F_3$ and $F_{\\mathcal{G}}$:"
   ]
  },
  {
   "cell_type": "code",
   "execution_count": 8,
   "metadata": {},
   "outputs": [],
   "source": [
    "F3 = [ xi**3 - 1 for xi in V ]\n",
    "Fg = [ xi**2 + xi*xj + xj**2 for xi, xj in E ]"
   ]
  },
  {
   "cell_type": "markdown",
   "metadata": {},
   "source": [
    "Everything is set following the theoretical introduction, so now we can compute the Gröbner basis of $F_3 \\cup F_{\\mathcal{G}}$ with respect to lexicographic ordering of terms:"
   ]
  },
  {
   "cell_type": "code",
   "execution_count": 10,
   "metadata": {},
   "outputs": [],
   "source": [
    "G = groebner(F3 + Fg, *V, order='lex')"
   ]
  },
  {
   "cell_type": "markdown",
   "metadata": {},
   "source": [
    "We know that if the constructed system of polynomial equations has a solution then $G$ should be non–trivial, which can be easily verified:"
   ]
  },
  {
   "cell_type": "code",
   "execution_count": 11,
   "metadata": {},
   "outputs": [
    {
     "output_type": "execute_result",
     "data": {
      "text/plain": "True"
     },
     "metadata": {},
     "execution_count": 11
    }
   ],
   "source": [
    "G != [1]"
   ]
  },
  {
   "cell_type": "markdown",
   "metadata": {},
   "source": [
    "The answer is that the graph $\\mathcal{G}$ is $3$–colorable. A sample coloring is shown on the following figure:"
   ]
  },
  {
   "cell_type": "code",
   "execution_count": 12,
   "metadata": {
    "tags": []
   },
   "outputs": [
    {
     "output_type": "stream",
     "name": "stdout",
     "text": "/bin/sh: 1: Syntax error: word unexpected (expecting \")\")\n"
    }
   ],
   "source": [
    "![title](./img/full_graph.png)"
   ]
  },
  {
   "cell_type": "markdown",
   "metadata": {},
   "source": [
    "Suppose we add an edge between vertices $i = 3$ and $j = 4$. Is the new graph still $3$–colorable? To check this it is sufficient to construct $F_{\\mathcal{G'}}$ by extending $F_{\\mathcal{G}}$ with $x_3^2 + x_3 x_4 + x_4^2$ and recomputing the Gröbner basis:"
   ]
  },
  {
   "cell_type": "code",
   "execution_count": 13,
   "metadata": {},
   "outputs": [
    {
     "output_type": "execute_result",
     "data": {
      "text/plain": "GroebnerBasis([1], x1, x2, x3, x4, x5, x6, x7, x8, x9, x10, x11, x12, domain='ZZ', order='lex')",
      "text/latex": "$\\displaystyle GroebnerBasis\\left(\\left( 1\\right), \\left( x_{1}, \\  x_{2}, \\  x_{3}, \\  x_{4}, \\  x_{5}, \\  x_{6}, \\  x_{7}, \\  x_{8}, \\  x_{9}, \\  x_{10}, \\  x_{11}, \\  x_{12}\\right)\\right)$"
     },
     "metadata": {},
     "execution_count": 13
    }
   ],
   "source": [
    "groebner(F3 + Fg + [x3**2 + x3*x4 + x4**2], *V, order='lex')"
   ]
  },
  {
   "cell_type": "markdown",
   "metadata": {},
   "source": [
    "Let’s return to the original graph. We already know that it is $3$–colorable, but now we would like to enumerate all colorings. We will start from revising properties of roots of unity. Let’s construct the $k$–th root of unity, where $k = 3$, in algebraic number form:"
   ]
  },
  {
   "cell_type": "code",
   "execution_count": 55,
   "metadata": {},
   "outputs": [
    {
     "output_type": "execute_result",
     "data": {
      "text/plain": "[1, -1/2 - sqrt(3)*I/2, -1/2 + sqrt(3)*I/2]"
     },
     "metadata": {},
     "execution_count": 55
    }
   ],
   "source": [
    "var('x')\n",
    "unityroots = roots(x**3 - 1, multiple=True)\n",
    "unityroots"
   ]
  },
  {
   "cell_type": "markdown",
   "metadata": {},
   "source": [
    "Let’s declare three variables which will nicely represent colors in the $3$–coloring problem and let’s put together, in an arbitrary but fixed order, those variables and the previously computed roots of unity:"
   ]
  },
  {
   "cell_type": "code",
   "execution_count": 59,
   "metadata": {
    "tags": []
   },
   "outputs": [],
   "source": [
    "colorvars = var('red,green,blue')"
   ]
  },
  {
   "cell_type": "markdown",
   "metadata": {},
   "source": [
    "This gives as a mapping between algebra of $3$–coloring problem and a nice visual representation, which we will take advantage of later.\n",
    "\n",
    "Let’s look at $G$ and solve the Gröbner basis $G$:"
   ]
  },
  {
   "cell_type": "code",
   "execution_count": 43,
   "metadata": {},
   "outputs": [],
   "source": [
    "colorings = solve(G, *V)"
   ]
  },
  {
   "cell_type": "code",
   "execution_count": 44,
   "metadata": {},
   "outputs": [
    {
     "output_type": "execute_result",
     "data": {
      "text/plain": "6"
     },
     "metadata": {},
     "execution_count": 44
    }
   ],
   "source": [
    "len(colorings)"
   ]
  },
  {
   "cell_type": "markdown",
   "metadata": {},
   "source": [
    "This confirms that there are six solutions. At this point we could simply print the computed solutions to see what are the admissible $3$–colorings. This is, however, not a good idea, because we use algebraic numbers (roots of unity) for representing colors and `solve()` returned solutions in terms of those algebraic numbers, possibly even in a non–simplified form."
   ]
  },
  {
   "cell_type": "code",
   "execution_count": 60,
   "metadata": {
    "tags": []
   },
   "outputs": [
    {
     "output_type": "stream",
     "name": "stdout",
     "text": "[(1, -1/2 - sqrt(3)*I/2, -1/2 + sqrt(3)*I/2, -1/2 + sqrt(3)*I/2, 1, -1/2 - sqrt(3)*I/2, -1/2 + sqrt(3)*I/2, 1, -1/2 - sqrt(3)*I/2, 1, -1/2 - sqrt(3)*I/2, -1/2 + sqrt(3)*I/2), (1, -1/2 + sqrt(3)*I/2, -1/2 - sqrt(3)*I/2, -1/2 - sqrt(3)*I/2, 1, -1/2 + sqrt(3)*I/2, -1/2 - sqrt(3)*I/2, 1, -1/2 + sqrt(3)*I/2, 1, -1/2 + sqrt(3)*I/2, -1/2 - sqrt(3)*I/2), (-1/2 - sqrt(3)*I/2, 1, -1/2 + sqrt(3)*I/2, -1/2 + sqrt(3)*I/2, -1/2 - sqrt(3)*I/2, 1, -1/2 + sqrt(3)*I/2, -1/2 - sqrt(3)*I/2, 1, -1/2 - sqrt(3)*I/2, 1, -1/2 + sqrt(3)*I/2), (-1/2 - sqrt(3)*I/2, -1/2 + sqrt(3)*I/2, 1, 1, -1/2 - sqrt(3)*I/2, -1/2 + sqrt(3)*I/2, 1, -1/2 - sqrt(3)*I/2, -1/2 + sqrt(3)*I/2, -1/2 - sqrt(3)*I/2, -1/2 + sqrt(3)*I/2, 1), (-1/2 + sqrt(3)*I/2, 1, -1/2 - sqrt(3)*I/2, -1/2 - sqrt(3)*I/2, -1/2 + sqrt(3)*I/2, 1, -1/2 - sqrt(3)*I/2, -1/2 + sqrt(3)*I/2, 1, -1/2 + sqrt(3)*I/2, 1, -1/2 - sqrt(3)*I/2), (-1/2 + sqrt(3)*I/2, -1/2 - sqrt(3)*I/2, 1, 1, -1/2 + sqrt(3)*I/2, -1/2 - sqrt(3)*I/2, 1, -1/2 + sqrt(3)*I/2, -1/2 - sqrt(3)*I/2, -1/2 + sqrt(3)*I/2, -1/2 - sqrt(3)*I/2, 1)]\n"
    }
   ],
   "source": [
    "print(colorings)"
   ]
  },
  {
   "cell_type": "markdown",
   "metadata": {},
   "source": [
    "To overcome this difficulty we will use previously defined mapping between roots of unity and literal colors and substitute symbols for numbers:"
   ]
  },
  {
   "cell_type": "code",
   "execution_count": 64,
   "metadata": {
    "tags": []
   },
   "outputs": [
    {
     "output_type": "stream",
     "name": "stdout",
     "text": "[red, green, -green - 1, -green - 1, red, green, -green - 1, red, green, red, green, -green - 1]\n[red, -green - 1, green, green, red, -green - 1, green, red, -green - 1, red, -green - 1, green]\n[green, red, -green - 1, -green - 1, green, red, -green - 1, green, red, green, red, -green - 1]\n[green, -green - 1, red, red, green, -green - 1, red, green, -green - 1, green, -green - 1, red]\n[-green - 1, red, green, green, -green - 1, red, green, -green - 1, red, -green - 1, red, green]\n[-green - 1, green, red, red, -green - 1, green, red, -green - 1, green, -green - 1, green, red]\n"
    }
   ],
   "source": [
    "for coloring in colorings:\n",
    "    list = [color.expand(complex=True).subs(zip(unityroots, colorvars)) for color in coloring]\n",
    "    print(list)"
   ]
  },
  {
   "cell_type": "markdown",
   "metadata": {},
   "source": [
    "This is the result we were looking for (sort of, since `-green-1=1/2 + sqrt(3)*I/2 - 1 = -1/2 + sqrt(3)*I/2 = blue`), but a few words of explanation are needed. `solve()` may return unsimplified results so we may need to simplify any algebraic numbers that don’t match structurally the precomputed roots of unity. Taking advantage of the domain of computation, we use the complex expansion algorithm for this purpose (`expand(complex=True)`). Once we have the solutions in this canonical form, to get this nice visual form with literal colors it is sufficient to substitute color variables for roots of unity."
   ]
  },
  {
   "cell_type": "code",
   "execution_count": null,
   "metadata": {},
   "outputs": [],
   "source": []
  }
 ]
}