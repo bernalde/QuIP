{
 "cells": [
  {
   "cell_type": "code",
   "execution_count": 1,
   "metadata": {},
   "outputs": [],
   "source": [
    "from sympy import *"
   ]
  },
  {
   "cell_type": "code",
   "execution_count": 2,
   "metadata": {},
   "outputs": [],
   "source": [
    "y1, y2, y3, y4, z = symbols('y1 y2 y3 y4 z')"
   ]
  },
  {
   "cell_type": "code",
   "execution_count": 3,
   "metadata": {},
   "outputs": [
    {
     "name": "stdout",
     "output_type": "stream",
     "text": [
      "[y1 + 2*y2 + 3*y3 + 3*y4 - z, y1 + y2 + 2*y3 + y4 - 3, y1*(y1 - 1), y2*(y2 - 1), y3*(y3 - 1), y4*(y4 - 1)]\n"
     ]
    }
   ],
   "source": [
    "# Problem equationsal formulation\n",
    "eqs = [y1 + 2*y2 + 3*y3 + 3*y4 - z , y1 + y2 + 2*y3 + y4 - 3]\n",
    "eqs = eqs + [x*(x-1) for x in [y1,y2,y3,y4]]\n",
    "print(eqs)"
   ]
  },
  {
   "cell_type": "code",
   "execution_count": 4,
   "metadata": {},
   "outputs": [
    {
     "data": {
      "text/plain": [
       "[2*y1 + 2*y3 - z**2 + 11*z - 32,\n",
       " y2 + y3 + z**2 - 10*z + 23,\n",
       " y3**2 - y3,\n",
       " y3*z - 6*y3 - z + 6,\n",
       " 2*y4 - z**2 + 9*z - 20,\n",
       " z**3 - 15*z**2 + 74*z - 120]"
      ]
     },
     "execution_count": 4,
     "metadata": {},
     "output_type": "execute_result"
    }
   ],
   "source": [
    "#Computing Groebner basis\n",
    "result = groebner(eqs, y1, y2, y3, y4, z, order='lex')\n",
    "list(result)"
   ]
  },
  {
   "cell_type": "code",
   "execution_count": 5,
   "metadata": {},
   "outputs": [
    {
     "data": {
      "text/plain": [
       "[4, 5, 6]"
      ]
     },
     "execution_count": 5,
     "metadata": {},
     "output_type": "execute_result"
    }
   ],
   "source": [
    "# Solving the last equation of the Groebner basis\n",
    "solve(list(result)[-1], z)"
   ]
  },
  {
   "cell_type": "code",
   "execution_count": null,
   "metadata": {},
   "outputs": [],
   "source": []
  }
 ],
 "metadata": {
  "kernelspec": {
   "display_name": "Python 3",
   "language": "python",
   "name": "python3"
  },
  "language_info": {
   "codemirror_mode": {
    "name": "ipython",
    "version": 3
   },
   "file_extension": ".py",
   "mimetype": "text/x-python",
   "name": "python",
   "nbconvert_exporter": "python",
   "pygments_lexer": "ipython3",
   "version": "3.7.1"
  }
 },
 "nbformat": 4,
 "nbformat_minor": 2
}
