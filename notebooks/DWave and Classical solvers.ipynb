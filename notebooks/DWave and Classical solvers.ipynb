{
 "cells": [
  {
   "cell_type": "markdown",
   "metadata": {},
   "source": [
    "## Using a DWave system"
   ]
  },
  {
   "cell_type": "markdown",
   "metadata": {},
   "source": [
    "### Verifying your solver configuration"
   ]
  },
  {
   "cell_type": "code",
   "execution_count": 1,
   "metadata": {},
   "outputs": [
    {
     "name": "stdout",
     "output_type": "stream",
     "text": [
      "Error: Invalid configuration: API token not defined (code: 1)\n"
     ]
    }
   ],
   "source": [
    "!dwave ping"
   ]
  },
  {
   "cell_type": "code",
   "execution_count": 3,
   "metadata": {},
   "outputs": [
    {
     "name": "stdout",
     "output_type": "stream",
     "text": [
      "Using endpoint: https://cloud.dwavesys.com/sapi\n",
      "Using solver: DW_2000Q_2_1\n",
      "Using qubit biases: {0: -0.22315978462961183, 1: -1.0521504005329145, 2: -0.7203271327277183, 3: ...\n",
      "Using qubit couplings: {(1634, 1638): 0.7812275936567643, (587, 590): 0.2805320051459397, (1099, ...\n",
      "Number of samples: 1\n",
      "Samples: [[-1, -1, 1, -1, -1, -1, 1, -1, 1, -1, 1, 1, -1, 1, 1, 1, -1, -1, -1, -1, 1, 1, 1, 1, -1...\n",
      "Occurrences: [1]\n",
      "Energies: [-2876.449971178049]\n"
     ]
    }
   ],
   "source": [
    "!dwave sample --random-problem"
   ]
  },
  {
   "cell_type": "code",
   "execution_count": 4,
   "metadata": {},
   "outputs": [
    {
     "name": "stdout",
     "output_type": "stream",
     "text": [
      "Solver: DW_2000Q_2_1\r\n",
      "  Parameters:\r\n",
      "    anneal_offsets: A list of anneal offsets for each working qubit (NaN if u...\r\n",
      "    anneal_schedule: A piecewise linear annealing schedule specified by a list...\r\n",
      "    annealing_time: A positive integer that sets the duration (in microsecond...\r\n",
      "    answer_mode: ?\r\n",
      "    auto_scale: ?\r\n",
      "    beta: Boltzmann distribution parameter. Only used when postproc...\r\n",
      "    chains: Defines which qubits represent the same logical variable ...\r\n",
      "    flux_biases: A list of flux biases for each working qubit.\r\n",
      "    flux_drift_compensation: A boolean for whether to activate the flux drift compensa...\r\n",
      "    h_gain_schedule: A piecewise linear h-gain schedule specified by a list of...\r\n",
      "    initial_state: The initial states to use for the reverse anneal feature.\r\n",
      "    max_answers: ?\r\n",
      "    num_reads: ?\r\n",
      "    num_spin_reversal_transforms: ?\r\n",
      "    postprocess: either 'sampling' or 'optimization'\r\n",
      "    programming_thermalization: An integer that gives the time (in microseconds) to wait ...\r\n",
      "    readout_thermalization: An integer that gives the time (in microseconds) to wait ...\r\n",
      "    reduce_intersample_correlation: A boolean for whether to add pauses between samples.\r\n",
      "    reinitialize_state: Whether to reapply the initial_state for every read.\r\n",
      "  Properties:\r\n",
      "    anneal_offset_ranges: [[-0.18627387668142237, 0.09542224439071689], [-0.1836548...\r\n",
      "    anneal_offset_step: 0.004266738445272551\r\n",
      "    anneal_offset_step_phi0: 0.0002716801020270571\r\n",
      "    annealing_time_range: [1, 2000]\r\n",
      "    couplers: [[0, 4], [1, 4], [2, 4], [3, 4], [0, 5], [1, 5], [2, 5], ...\r\n",
      "    default_annealing_time: 20\r\n",
      "    default_programming_thermalization: 1000\r\n",
      "    default_readout_thermalization: 0\r\n",
      "    extended_j_range: [-2.0, 1.0]\r\n",
      "    h_gain_schedule_range: [-5.0, 5.0]\r\n",
      "    h_range: [-2.0, 2.0]\r\n",
      "    j_range: [-1.0, 1.0]\r\n",
      "    max_anneal_schedule_points: 4\r\n",
      "    max_h_gain_schedule_points: 20\r\n",
      "    num_qubits: 2048\r\n",
      "    num_reads_range: [1, 10000]\r\n",
      "    per_qubit_coupling_range: [-9.0, 6.0]\r\n",
      "    problem_run_duration_range: [0, 1000000]\r\n",
      "    programming_thermalization_range: [0, 10000]\r\n",
      "    qubits: [0, 1, 2, 3, 4, 5, 6, 7, 8, 9, 10, 11, 12, 13, 14, 15, 16...\r\n",
      "    readout_thermalization_range: [0, 10000]\r\n",
      "    supported_problem_types: ['ising', 'qubo']\r\n",
      "    vfyc: False\r\n",
      "  Derived properties:\r\n",
      "    avg_load: 0.5494246666666667\r\n",
      "    name: DW_2000Q_2_1\r\n",
      "    num_active_qubits: 2038\r\n",
      "    online: True\r\n",
      "    qpu: True\r\n",
      "    software: False\r\n",
      "\r\n"
     ]
    }
   ],
   "source": [
    "!dwave solvers"
   ]
  },
  {
   "cell_type": "code",
   "execution_count": 5,
   "metadata": {},
   "outputs": [],
   "source": [
    "from dwave.system.samplers import DWaveSampler"
   ]
  },
  {
   "cell_type": "code",
   "execution_count": 6,
   "metadata": {},
   "outputs": [
    {
     "data": {
      "text/plain": [
       "{'reduce_intersample_correlation': ['parameters'],\n",
       " 'h_gain_schedule': ['parameters'],\n",
       " 'programming_thermalization': ['parameters'],\n",
       " 'reinitialize_state': ['parameters'],\n",
       " 'anneal_offsets': ['parameters'],\n",
       " 'num_reads': ['parameters'],\n",
       " 'max_answers': ['parameters'],\n",
       " 'readout_thermalization': ['parameters'],\n",
       " 'flux_biases': ['parameters'],\n",
       " 'beta': ['parameters'],\n",
       " 'answer_mode': ['parameters'],\n",
       " 'auto_scale': ['parameters'],\n",
       " 'postprocess': ['parameters'],\n",
       " 'annealing_time': ['parameters'],\n",
       " 'anneal_schedule': ['parameters'],\n",
       " 'initial_state': ['parameters'],\n",
       " 'chains': ['parameters'],\n",
       " 'flux_drift_compensation': ['parameters'],\n",
       " 'num_spin_reversal_transforms': ['parameters']}"
      ]
     },
     "execution_count": 6,
     "metadata": {},
     "output_type": "execute_result"
    }
   ],
   "source": [
    "sampler = DWaveSampler()\n",
    "sampler.parameters"
   ]
  },
  {
   "cell_type": "markdown",
   "metadata": {},
   "source": [
    "### Submitting problems to DWave"
   ]
  },
  {
   "cell_type": "code",
   "execution_count": 7,
   "metadata": {},
   "outputs": [],
   "source": [
    "from dwave.system.samplers import DWaveSampler\n",
    "from dwave.system.composites import EmbeddingComposite"
   ]
  },
  {
   "cell_type": "code",
   "execution_count": 8,
   "metadata": {},
   "outputs": [
    {
     "data": {
      "text/plain": [
       "array([-1.5])"
      ]
     },
     "execution_count": 8,
     "metadata": {},
     "output_type": "execute_result"
    }
   ],
   "source": [
    "sampler = EmbeddingComposite(DWaveSampler())\n",
    "response = sampler.sample_ising({'a': -0.5, 'b': 1.0}, {('a', 'b'): -1})\n",
    "response.data_vectors['energy'] "
   ]
  },
  {
   "cell_type": "code",
   "execution_count": 9,
   "metadata": {},
   "outputs": [
    {
     "data": {
      "text/plain": [
       "SampleSet(rec.array([([-1, -1], -1.5, 1, 0.)],\n",
       "          dtype=[('sample', 'i1', (2,)), ('energy', '<f8'), ('num_occurrences', '<i8'), ('chain_break_fraction', '<f8')]), ['a', 'b'], {'timing': {'total_real_time': 7759, 'qpu_access_overhead_time': 873, 'anneal_time_per_run': 20, 'post_processing_overhead_time': 383, 'qpu_sampling_time': 164, 'readout_time_per_run': 123, 'qpu_delay_time_per_sample': 21, 'qpu_anneal_time_per_sample': 20, 'total_post_processing_time': 383, 'qpu_programming_time': 7595, 'run_time_chip': 164, 'qpu_access_time': 7759, 'qpu_readout_time_per_sample': 123}}, 'SPIN')"
      ]
     },
     "execution_count": 9,
     "metadata": {},
     "output_type": "execute_result"
    }
   ],
   "source": [
    "response"
   ]
  },
  {
   "cell_type": "markdown",
   "metadata": {},
   "source": [
    "## Using a Classical solver"
   ]
  },
  {
   "cell_type": "markdown",
   "metadata": {},
   "source": [
    "Among several samplers provided in the dimod tool for testing your code locally, is the ExactSolver() that calculates the energy of all possible samples for a given problem. This example solves a two-variable Ising model classically on your local machine."
   ]
  },
  {
   "cell_type": "code",
   "execution_count": 10,
   "metadata": {},
   "outputs": [],
   "source": [
    "import dimod"
   ]
  },
  {
   "cell_type": "code",
   "execution_count": 11,
   "metadata": {},
   "outputs": [
    {
     "data": {
      "text/plain": [
       "array([-1.5, -0.5, -0.5,  2.5])"
      ]
     },
     "execution_count": 11,
     "metadata": {},
     "output_type": "execute_result"
    }
   ],
   "source": [
    "solver = dimod.ExactSolver()\n",
    "response = solver.sample_ising({'a': -0.5, 'b': 1.0}, {('a', 'b'): -1})\n",
    "response.data_vectors['energy']"
   ]
  },
  {
   "cell_type": "markdown",
   "metadata": {},
   "source": [
    "This example solves the previous problem using the dwave_neal simulated annealing sampler. The two samples requested and generated by this classical solver on your local machine vary by execution."
   ]
  },
  {
   "cell_type": "code",
   "execution_count": 12,
   "metadata": {},
   "outputs": [],
   "source": [
    "import neal"
   ]
  },
  {
   "cell_type": "code",
   "execution_count": 13,
   "metadata": {},
   "outputs": [
    {
     "data": {
      "text/plain": [
       "array([-1.5, -1.5])"
      ]
     },
     "execution_count": 13,
     "metadata": {},
     "output_type": "execute_result"
    }
   ],
   "source": [
    "solver = neal.SimulatedAnnealingSampler()\n",
    "response = solver.sample_ising({'a': -0.5, 'b': 1.0}, {('a', 'b'): -1}, num_reads=2)\n",
    "response.data_vectors['energy']   "
   ]
  },
  {
   "cell_type": "code",
   "execution_count": null,
   "metadata": {},
   "outputs": [],
   "source": []
  }
 ],
 "metadata": {
  "kernelspec": {
   "display_name": "Python 3",
   "language": "python",
   "name": "python3"
  },
  "language_info": {
   "codemirror_mode": {
    "name": "ipython",
    "version": 3
   },
   "file_extension": ".py",
   "mimetype": "text/x-python",
   "name": "python",
   "nbconvert_exporter": "python",
   "pygments_lexer": "ipython3",
   "version": "3.7.1"
  }
 },
 "nbformat": 4,
 "nbformat_minor": 2
}
