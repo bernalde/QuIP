{
 "cells": [
  {
   "source": [
    "# Quantum Integer Programming (QuIP) 47-779. Fall 2020, CMU"
   ],
   "cell_type": "markdown",
   "metadata": {}
  },
  {
   "source": [
    "This notebook contains material from the Quantum Integer Programming Lecture at CMU Fall 2020 by David Bernal (bernalde at cmu.edu), Sridhar Tayur (stayur at cmu.edu) and Davide Venturelli; the content is available on **[Github](https://github.com/bernalde/QuIP)**. The text is released under the **[CC-BY-NC-ND-4.0](https://creativecommons.org/licenses/by-nc-nd/4.0/legalcode) license, and code is released under the **[MIT license](https://opensource.org/licenses/MIT).*\n",
    "\n",
    "This notebook just translates from the original Japanese version the Coloring script provided by **[Quantum-Fixstars](https://quantum.fixstars.com/product/demo#demoModal)**. The original notebook is accessible **[here](https://hub.binder.fixstars.com/user/fixstars-quantum-demo-vp3q7fpm/notebooks/coloring.ipynb)**. This notebook uses code from the Python library **[Amplify](https://quantum.fixstars.com/docs/amplify/about.html)**. Given that even if the library is installed we do not have the APIs to run the code using the GPU Quantum Annealing Simulator **[Optigan](https://quantum.fixstars.com/docs/optigan/about.html)**, this notebook is here only to present the results, please DO NOT RUN (it won't work).\n",
    "\n",
    "This is a post for appreciation of the very nice work being done by **[Fixstars](https://quantum.fixstars.com/)**.\n",
    "\n",
    "Run in **[Google Colab](https://colab.research.google.com/github/bernalde/QuIP/blob/master/notebooks/Notebook%208%20-%20Amplify%20Tutorials.ipynb)**"
   ],
   "cell_type": "markdown",
   "metadata": {}
  },
  {
   "attachments": {
    "200px-Petersen_graph_3-coloring.svg.png": {
     "image/png": "[encoded data removed]"
    }
   },
   "cell_type": "markdown",
   "metadata": {},
   "source": [
    "## Graph Coloring\n",
    "\n",
    "Amplify を用いたグラフ彩色問題の解法について解説します。\n",
    "I will explain how to solve the graph coloring problem using Amplify.\n",
    "\n",
    "\n",
    "### グラフ彩色問題の定式化\n",
    "### Formulation of graph coloring problem\n",
    "\n",
    "\n",
    "グラフ彩色問題とは、あるグラフが与えられたときに、与えられた制約条件の下でその頂点などに色を割り当てる問題です。最も典型的な問題は頂点に対して隣接する頂点同士別の色で塗り分ける問題です。\n",
    "The graph coloring problem is a problem of assigning colors to the vertices of a certain graph under the given constraints. The most typical problem is to paint the vertices adjacent to each other with different colors.\n",
    "\n",
    "平面グラフ (地図) においては、隣接する領域同士においてどんな場合でも四色あれば塗り分けられるという [四色定理](https://en.wikipedia.org/wiki/Four_color_theorem) が知られています。しかしその塗り分け方法については自明ではありません。\n",
    "\n",
    "\n",
    "In a planar graph (map), it is known that the four colors can be painted separately in any case between adjacent areas [Four Color Theorem] (https://en.wikipedia.org/wiki/Four_color_theorem). However, it is not obvious how to paint them separately.\n",
    "\n",
    "グラフ彩色問題にはいくつかの応用例が知られており、例えば、会議室・機械・タスクなどの割り当てに関するスケジューリング問題や、コンパイラによるレジスタ割り付け、携帯電話網における周波数割り当て等が挙げられます。今回は日本の都道府県に対して、イジングマシンを用いた塗り分けを行います。\n",
    "\n",
    "Several application examples are known for the graph coloring problem, such as scheduling problems related to allocation of conference rooms, machines, tasks, etc., register allocation by a compiler, frequency allocation in a mobile phone network, and the like. This time, we will use the Ising machine to paint different prefectures in Japan.\n",
    "\n",
    "\n",
    "イジングマシンを用いるためにグラフの彩色状態に対して二値で表現する方法を考えます。次のように、各領域に対して四変数を用いて $0$ または $1$ を割り当てる事で表現が可能です。\n",
    "\n",
    "Consider a method of expressing the coloring state of the graph as a binary in order to use the Ising machine. It can be expressed by allocating $ 0 $ or $ 1 $ to each area using four variables as shown below.\n",
    "\n",
    "| Region | Red | Green | Blue | Yellow |\n",
    "|--------|-----|-------|------|--------|\n",
    "| 1      | 0   | 0     | 1    | 0      |\n",
    "| 2      | 0   | 1     | 0    | 0      |\n",
    "| 3      | 0   | 0     | 1    | 0      |\n",
    "| 4      | 1   | 0     | 0    | 0      |\n",
    "\n",
    "    \n",
    "この例では領域 $1$ に青、領域 $2$ に緑、領域 $3$ に青、領域 $4$ に赤を割り当てることを意味しています。上記の表における各変数を領域のインデックス $i$ と色のインデックス $c$ を用いて、$q_{i,c}$ と表すことにします。よって必要な変数の数は領域数 $N$、 色数 $C$ に対して $NC$ となります。\n",
    "\n",
    "This example means assigning blue to area $ 1 $, green to area $ 2 $, blue to area $ 3 $, and red to area $ 4 $. We will represent each variable in the table above as $ q_ {i, c} $, using the region index $ i $ and the color index $ c $. Therefore, the required number of variables is $ NC $ for the number of areas $ N $ and the number of colors $ C $.\n",
    "\n",
    "\n",
    "塗り分け問題の定義から変数の間には次の制約条件が課せられます。\n",
    "\n",
    "The following constraints are imposed between the variables from the definition of the fill problem.\n",
    "\n",
    "\n",
    "* 一領域を一色で塗る\n",
    "* 隣接する領域に対して同色で塗らない\n",
    "\n",
    "\n",
    "* Paint one area with one color\n",
    "* Do not paint adjacent areas with the same color\n",
    "\n",
    "これらについて定式化を行うと次のように表されます。\n",
    "\n",
    "When these are formulated, they are expressed as follows.\n",
    "\n",
    "\n",
    "**制約条件**\n",
    "\n",
    "\n",
    "** Constraints **\n",
    "\n",
    "$$\n",
    "    \\sum_{c = 0}^{C-1}{ q_{i,c} } = 1 \\quad i \\in \\left\\{0, 1, \\cdots, N - 1 \\right\\} \\\\\n",
    "    \\sum_{\\left(i, j \\right) \\in E}{ q_{i,c} q_{j,c} } = 0\n",
    "$$\n",
    "\n",
    "ここで $E$ はグラフ上の隣接している領域の組の集合を表します。後でプログラムコード化する都合により、変数のインデックスは $0$ からスタートしていることに注意してください。\n",
    "\n",
    "Where $ E $ represents a set of pairs of adjacent regions on the graph. Note that the variable index starts at $ 0 $ for convenience of later program coding.\n",
    "\n"
   ]
  },
  {
   "cell_type": "markdown",
   "metadata": {},
   "source": [
    "### 問題の作成\n",
    "\n",
    "### Creating a problem\n",
    "\n",
    "日本地図を扱うために Python の [japanmap](https://pypi.org/project/japanmap/) モジュールを使用します。都道府県コード ( $1 \\sim{} 47$) を用いて都道府県名や隣接情報などを取得できます。\n",
    "\n",
    "Use Python's [japanmap] (https://pypi.org/project/japanmap/) module to work with Japanese maps. You can use the prefecture code ($ 1 \\sim{} 47 $) to get the prefecture name and adjacency information.\n",
    "\n",
    "\n",
    "\n",
    "まずは色の定義を行い、変数テーブルを用意します。\n",
    "\n",
    "First, define the color and prepare the variable table."
   ]
  },
  {
   "cell_type": "code",
   "execution_count": 1,
   "metadata": {},
   "outputs": [],
   "source": [
    "from amplify import BinaryPoly, gen_symbols\n",
    "import japanmap as jm\n",
    "\n",
    "colors = [\"red\", \"green\", \"blue\", \"yellow\"]\n",
    "num_colors = len(colors)\n",
    "num_region = len(jm.pref_names) - 1  # 都道府県数を取得 Obtained the number of prefectures\n",
    "\n",
    "q = gen_symbols(BinaryPoly, num_region, num_colors)"
   ]
  },
  {
   "cell_type": "code",
   "execution_count": 2,
   "metadata": {},
   "outputs": [
    {
     "data": {
      "text/plain": [
       "[[q_0, q_1, q_2, q_3],\n",
       " [q_4, q_5, q_6, q_7],\n",
       " [q_8, q_9, q_10, q_11],\n",
       " [q_12, q_13, q_14, q_15],\n",
       " [q_16, q_17, q_18, q_19],\n",
       " [q_20, q_21, q_22, q_23],\n",
       " [q_24, q_25, q_26, q_27],\n",
       " [q_28, q_29, q_30, q_31],\n",
       " [q_32, q_33, q_34, q_35],\n",
       " [q_36, q_37, q_38, q_39],\n",
       " [q_40, q_41, q_42, q_43],\n",
       " [q_44, q_45, q_46, q_47],\n",
       " [q_48, q_49, q_50, q_51],\n",
       " [q_52, q_53, q_54, q_55],\n",
       " [q_56, q_57, q_58, q_59],\n",
       " [q_60, q_61, q_62, q_63],\n",
       " [q_64, q_65, q_66, q_67],\n",
       " [q_68, q_69, q_70, q_71],\n",
       " [q_72, q_73, q_74, q_75],\n",
       " [q_76, q_77, q_78, q_79],\n",
       " [q_80, q_81, q_82, q_83],\n",
       " [q_84, q_85, q_86, q_87],\n",
       " [q_88, q_89, q_90, q_91],\n",
       " [q_92, q_93, q_94, q_95],\n",
       " [q_96, q_97, q_98, q_99],\n",
       " [q_100, q_101, q_102, q_103],\n",
       " [q_104, q_105, q_106, q_107],\n",
       " [q_108, q_109, q_110, q_111],\n",
       " [q_112, q_113, q_114, q_115],\n",
       " [q_116, q_117, q_118, q_119],\n",
       " [q_120, q_121, q_122, q_123],\n",
       " [q_124, q_125, q_126, q_127],\n",
       " [q_128, q_129, q_130, q_131],\n",
       " [q_132, q_133, q_134, q_135],\n",
       " [q_136, q_137, q_138, q_139],\n",
       " [q_140, q_141, q_142, q_143],\n",
       " [q_144, q_145, q_146, q_147],\n",
       " [q_148, q_149, q_150, q_151],\n",
       " [q_152, q_153, q_154, q_155],\n",
       " [q_156, q_157, q_158, q_159],\n",
       " [q_160, q_161, q_162, q_163],\n",
       " [q_164, q_165, q_166, q_167],\n",
       " [q_168, q_169, q_170, q_171],\n",
       " [q_172, q_173, q_174, q_175],\n",
       " [q_176, q_177, q_178, q_179],\n",
       " [q_180, q_181, q_182, q_183],\n",
       " [q_184, q_185, q_186, q_187]]"
      ]
     },
     "execution_count": 2,
     "metadata": {},
     "output_type": "execute_result"
    }
   ],
   "source": [
    "q"
   ]
  },
  {
   "cell_type": "markdown",
   "metadata": {},
   "source": [
    "#### Note\n",
    "\n",
    "制約条件の多項式に現れる係数は全て整数なので、`amplify.BinaryPoly` の代わりに `amplify.BinaryIntPoly` を用いる事も可能です。\n",
    "\n",
    "\n",
    "Since all the coefficients appearing in the constrained polynomial are integers, it is possible to use ʻamplify.BinaryIntPoly` instead of ʻamplify.BinaryPoly`.\n"
   ]
  },
  {
   "cell_type": "markdown",
   "metadata": {},
   "source": [
    "次に制約条件を作成します。One-hot 制約は `amplify.constraint.equal_to` 関数、最小値0をとる制約については、 `amplify.constraint.penalty` 関数を用いて次のように書けます。\n",
    "\n",
    "\n",
    "Next, create a constraint. One-hot constraints can be written using the ʻamplify.constraint.equal_to` function, and constraints with a minimum value of 0 can be written using the ʻamplify.constraint.penalty` function as follows.\n"
   ]
  },
  {
   "cell_type": "code",
   "execution_count": 3,
   "metadata": {},
   "outputs": [],
   "source": [
    "from amplify import sum_poly\n",
    "from amplify.constraint import equal_to, penalty\n",
    "\n",
    "# 各領域に対する制約 \n",
    "# Constraints for each area\n",
    "reg_constraints = [\n",
    "    equal_to(sum_poly([q[i][c] for c in range(num_colors)]), 1)\n",
    "    for i in range(num_region)\n",
    "]\n",
    "\n",
    "# 隣接する領域間の制約\n",
    "# Constraints between adjacent regions\n",
    "adj_constraints = [\n",
    "    # 都道府県コードと配列インデックスは1ずれてるので注意  \n",
    "    # Please note that the prefecture code and the array index are off by one.\n",
    "    penalty(q[i][c] * q[j - 1][c])\n",
    "    for i in range(num_region)\n",
    "    for j in jm.adjacent(i + 1)  # j: 隣接している都道府県コード  j: Adjacent prefecture code\n",
    "    if i + 1 < j\n",
    "    for c in range(num_colors)\n",
    "]\n",
    "\n",
    "constraints = sum(reg_constraints) + sum(adj_constraints)"
   ]
  },
  {
   "cell_type": "markdown",
   "metadata": {},
   "source": [
    "隣接情報は `japanmap.adjacent` 関数に都道府県コードを入力すると隣接する都道府県コードを取得できます。`q` に対するインデックスと都道府県コードには $1$ だけ差分があるため注意してください。\n",
    "\n",
    "Adjacent information can be obtained by entering the prefecture code in the `japanmap.adjacent` function. Note that there is a $ 1 $ difference between the index for `q` and the state code.\n"
   ]
  },
  {
   "cell_type": "markdown",
   "metadata": {},
   "source": [
    "### Note\n",
    "\n",
    "最小値 $0$ をとる制約条件については、先に全ての条件の和を取ってから単一の制約条件オブジェクトを作成しても等価です。隣接する領域間の制約について次のようにも書けます。\n",
    "\n",
    "\n",
    "For constraints that take a minimum of $ 0 $, it is equivalent to first summing all the conditions and then creating a single constraint object. You can also write the constraints between adjacent regions as follows:\n",
    "\n",
    "```python\n",
    "# 隣接する領域間の制約\n",
    "# Constraints between adjacent areas\n",
    "adj_constraints = [\n",
    "    # 都道府県コードと配列インデックスは1ずれてるので注意\n",
    "    # Please note that the prefecture code and the array index are off by one.\n",
    "    penalty(sum_poly(q[i][c] * q[j - 1][c]) for c in range(num_colors))\n",
    "    for i in range(num_region)\n",
    "    for j in jm.adjacent(i + 1)  # j: 隣接している都道府県コード  j: Adjacent prefecture code\n",
    "    if i + 1 < j\n",
    "]\n",
    "```\n",
    "\n",
    "以上で定式化に関する準備は完了です。\n",
    "\n",
    "\n",
    "This completes the preparation for formulation."
   ]
  },
  {
   "cell_type": "markdown",
   "metadata": {},
   "source": [
    "### イジングマシンの実行\n",
    "\n",
    "\n",
    "### Running the Ising machine\n",
    "\n",
    "イジングマシンのクライアントを作成しパラメータを設定します。その後ソルバーを作成しクライアントを設定します。\n",
    "\n",
    "\n",
    "Create a client for the Ising machine and set the parameters. Then create a solver and configure the client."
   ]
  },
  {
   "cell_type": "code",
   "execution_count": 4,
   "metadata": {},
   "outputs": [],
   "source": [
    "from amplify import Solver\n",
    "from amplify.client import FixstarsClient\n",
    "\n",
    "client = FixstarsClient()\n",
    "client.url = \"http://113.43.211.53:80\"\n",
    "client.parameters.timeout = 5000  # タイムアウト5秒 # Timeout 5 seconds\n",
    "\n",
    "solver = Solver(client)"
   ]
  },
  {
   "cell_type": "markdown",
   "metadata": {},
   "source": [
    "制約条件から論理模型を作成し、次のようにしてイジングマシンを実行し結果を取得します。\n",
    "\n",
    "Create a logical model from the constraints, run the Ising machine as follows, and get the result."
   ]
  },
  {
   "cell_type": "code",
   "execution_count": 5,
   "metadata": {},
   "outputs": [
    {
     "name": "stdout",
     "output_type": "stream",
     "text": [
      "<amplify.BinaryQuadraticModel object at 0x7fda700ba3e8>\n"
     ]
    }
   ],
   "source": [
    "from amplify import BinaryQuadraticModel\n",
    "\n",
    "model = BinaryQuadraticModel(constraints)\n",
    "print(model)\n",
    "result = solver.solve(model)\n",
    "if len(result.solutions) == 0:\n",
    "    raise RuntimeError(\"Any one of constraints is not satisfied.\")\n",
    "\n",
    "values = result.solutions[0].values"
   ]
  },
  {
   "cell_type": "markdown",
   "metadata": {},
   "source": [
    "### Note\n",
    "\n",
    "もし ``result.solutions`` オブジェクトが空のリストの場合、制約条件を満たす解が得られなかったことを意味します。この場合はイジングマシンのパラメータの変更が必要です。\n",
    "\n",
    "If the `` results.solutions`` object is an empty list, it means that no solution was found that meets the constraints. In this case, it is necessary to change the parameters of the Ising machine."
   ]
  },
  {
   "cell_type": "markdown",
   "metadata": {},
   "source": [
    "### 結果の解析\n",
    "\n",
    "### Result analysis\n",
    "\n",
    "`values` は入力変数と解の値のマッピングを表す辞書です。そのままでは評価しづらいので、次のようにして変数テーブル `q` と同一の形式にデコードします。\n",
    "\n",
    "`values` is a dictionary that represents the mapping between input variables and solution values. Since it is difficult to evaluate as it is, decode it to the same format as the variable table `q` as follows.\n"
   ]
  },
  {
   "cell_type": "code",
   "execution_count": 14,
   "metadata": {},
   "outputs": [],
   "source": [
    "from amplify import decode_solution\n",
    "\n",
    "q_values = decode_solution(q, values, 1)"
   ]
  },
  {
   "cell_type": "markdown",
   "metadata": {},
   "source": [
    "結果を ``{都道府県名: 色}`` の形式に変換します。まずは ``q_values`` の各行のうち値が1のインデックスを取得します。次のように \n",
    "`numpy` の関数を使用します。その後、`japanmap.pref_names` を用いて都道府県名に変換し、対応する色を格納した辞書を作成します。\n",
    "\n",
    "\n",
    "Converts the result to the format `` {prefecture name: color} ``. First, get the index with a value of 1 in each row of `` q_values``. as follows \n",
    "Use the function of `numpy`. After that, use `japanmap.pref_names` to convert it to a prefecture name and create a dictionary that stores the corresponding colors.\n"
   ]
  },
  {
   "cell_type": "code",
   "execution_count": 15,
   "metadata": {},
   "outputs": [],
   "source": [
    "import numpy as np\n",
    "color_indices = np.where(np.array(q_values) == 1)[1]\n",
    "color_map = {jm.pref_names[i + 1]: colors[color_indices[i]] for i in range(len(color_indices))}"
   ]
  },
  {
   "cell_type": "code",
   "execution_count": 16,
   "metadata": {},
   "outputs": [
    {
     "data": {
      "text/plain": [
       "{'北海道': 'blue',\n",
       " '青森県': 'red',\n",
       " '岩手県': 'yellow',\n",
       " '宮城県': 'red',\n",
       " '秋田県': 'green',\n",
       " '山形県': 'yellow',\n",
       " '福島県': 'blue',\n",
       " '茨城県': 'green',\n",
       " '栃木県': 'yellow',\n",
       " '群馬県': 'green',\n",
       " '埼玉県': 'red',\n",
       " '千葉県': 'yellow',\n",
       " '東京都': 'blue',\n",
       " '神奈川県': 'yellow',\n",
       " '新潟県': 'red',\n",
       " '富山県': 'blue',\n",
       " '石川県': 'yellow',\n",
       " '福井県': 'blue',\n",
       " '山梨県': 'green',\n",
       " '長野県': 'yellow',\n",
       " '岐阜県': 'green',\n",
       " '静岡県': 'blue',\n",
       " '愛知県': 'red',\n",
       " '三重県': 'blue',\n",
       " '滋賀県': 'red',\n",
       " '京都府': 'yellow',\n",
       " '大阪府': 'red',\n",
       " '兵庫県': 'green',\n",
       " '奈良県': 'green',\n",
       " '和歌山県': 'yellow',\n",
       " '鳥取県': 'red',\n",
       " '島根県': 'green',\n",
       " '岡山県': 'blue',\n",
       " '広島県': 'yellow',\n",
       " '山口県': 'red',\n",
       " '徳島県': 'yellow',\n",
       " '香川県': 'green',\n",
       " '愛媛県': 'blue',\n",
       " '高知県': 'green',\n",
       " '福岡県': 'red',\n",
       " '佐賀県': 'green',\n",
       " '長崎県': 'blue',\n",
       " '熊本県': 'blue',\n",
       " '大分県': 'green',\n",
       " '宮崎県': 'red',\n",
       " '鹿児島県': 'yellow',\n",
       " '沖縄県': 'red'}"
      ]
     },
     "execution_count": 16,
     "metadata": {},
     "output_type": "execute_result"
    }
   ],
   "source": [
    "color_map"
   ]
  },
  {
   "cell_type": "markdown",
   "metadata": {},
   "source": [
    "最後に得られた塗り分けを表示します。次のようにしてプロットされます。\n",
    "\n",
    "\n",
    "The last obtained color is displayed. It is plotted as follows."
   ]
  },
  {
   "cell_type": "code",
   "execution_count": 17,
   "metadata": {},
   "outputs": [
    {
     "data": {
      "image/png": "[encoded data removed]",
      "text/plain": [
       "<Figure size 432x432 with 1 Axes>"
      ]
     },
     "metadata": {
      "needs_background": "light"
     },
     "output_type": "display_data"
    }
   ],
   "source": [
    "%matplotlib inline\n",
    "import matplotlib.pyplot as plt\n",
    "\n",
    "plt.rcParams[\"figure.figsize\"] = 6, 6\n",
    "plt.imshow(jm.picture(color_map))\n",
    "plt.show()"
   ]
  },
  {
   "cell_type": "code",
   "execution_count": null,
   "metadata": {},
   "outputs": [],
   "source": []
  }
 ],
 "metadata": {
  "kernelspec": {
   "display_name": "Python 3",
   "language": "python",
   "name": "python3"
  },
  "language_info": {
   "codemirror_mode": {
    "name": "ipython",
    "version": 3
   },
   "file_extension": ".py",
   "mimetype": "text/x-python",
   "name": "python",
   "nbconvert_exporter": "python",
   "pygments_lexer": "ipython3",
   "version": "3.7.3"
  }
 },
 "nbformat": 4,
 "nbformat_minor": 4
}