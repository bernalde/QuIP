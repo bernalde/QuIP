{
 "metadata": {
  "language_info": {
   "codemirror_mode": {
    "name": "ipython",
    "version": 3
   },
   "file_extension": ".py",
   "mimetype": "text/x-python",
   "name": "python",
   "nbconvert_exporter": "python",
   "pygments_lexer": "ipython3",
   "version": "3.7.7-final"
  },
  "orig_nbformat": 2,
  "kernelspec": {
   "name": "python_defaultSpec_1598294079292",
   "display_name": "Python 3.7.7 64-bit ('xomibm': conda)"
  }
 },
 "nbformat": 4,
 "nbformat_minor": 2,
 "cells": [
  {
   "cell_type": "markdown",
   "metadata": {},
   "source": [
    "# Quantum Integer Programming (QuIP) 47-779. Fall 2020, CMU"
   ]
  },
  {
   "cell_type": "markdown",
   "metadata": {},
   "source": [
    "## Introduction to Mathematical Programming\n",
    "### Modeling\n",
    "The solution of optimization problems requires the development of a mathematical model. Here we will model an example given in the lecture and see how an integer program can be solved practically. This example will use as modeling language Pyomo (http://www.pyomo.org/), an open-source Python package, which provides a flexible access to different solvers and a general modeling framework for linear and nonlinear integer programs.\n",
    "The examples solved here will make use of open-source solvers GLPK (https://www.gnu.org/software/glpk/) for linear and mixed-integer linear programming and IPOPT (https://coin-or.github.io/Ipopt/) for nonlinear programming."
   ]
  },
  {
   "cell_type": "markdown",
   "metadata": {},
   "source": [
    "#### Problem statement\n",
    "Suppose there is a company that produces two different product, A and B, which can be sold at different values, $5.5 and $2.1 per unit respectively.\n",
    "The company only counts with a single machine with electricity usage of at most 17kW/day; and producing each A and B consumes 8kW/day and 2kW/day, respectively.\n",
    "Besides, the company can only produce at most 2 more units of A than B per day.\n",
    "\n",
    "This is a valid model, but it would be easier to solve if we had a mathematical representation.\n",
    "Assuming the units produced of A are $x_1$ and of B are $x_2$ we have\n",
    "$$\n",
    "\\max_{x_1, x_2} 5.5x_1 + 2.1x_2 \\\\\n",
    "s.t. x_2 \\leq x_1 + 2 \\\\\n",
    "8x_1 + 2x_2 \\leq 17 \\\\\n",
    "x_1, x_2 \\geq 0\n",
    "$$\n"
   ]
  },
  {
   "cell_type": "code",
   "execution_count": 2,
   "metadata": {},
   "outputs": [],
   "source": [
    "# Import the Pyomo library, which can be installed via pip, conda or from Github https://github.com/Pyomo/pyomo\n",
    "import pyomo.environ as pyo"
   ]
  },
  {
   "cell_type": "code",
   "execution_count": 4,
   "metadata": {
    "tags": []
   },
   "outputs": [
    {
     "output_type": "stream",
     "name": "stdout",
     "text": "1 Set Declarations\n    x_index : Size=1, Index=None, Ordered=Insertion\n        Key  : Dimen : Domain : Size : Members\n        None :     1 :    Any :    2 : {1, 2}\n\n1 Var Declarations\n    x : Size=2, Index=x_index\n        Key : Lower : Value : Upper : Fixed : Stale : Domain\n          1 :     0 :  None :  None : False :  True : NonNegativeReals\n          2 :     0 :  None :  None : False :  True : NonNegativeReals\n\n1 Objective Declarations\n    obj : Size=1, Index=None, Active=True\n        Key  : Active : Sense    : Expression\n        None :   True : maximize : 5.5*x[1] + 2.1*x[2]\n\n2 Constraint Declarations\n    Constraint1 : Size=1, Index=None, Active=True\n        Key  : Lower : Body              : Upper : Active\n        None :  -Inf : x[2] - (x[1] + 2) :   0.0 :   True\n    Constraint2 : Size=1, Index=None, Active=True\n        Key  : Lower : Body            : Upper : Active\n        None :  -Inf : 8*x[1] + 2*x[2] :  17.0 :   True\n\n5 Declarations: x_index x obj Constraint1 Constraint2\n"
    }
   ],
   "source": [
    "# Define the model\n",
    "model = pyo.ConcreteModel(name='Simple example LP, 47-779 QuIP')\n",
    "#Define the variables\n",
    "model.x = pyo.Var([1,2], domain=pyo.NonNegativeReals)\n",
    "# Define the objective function\n",
    "model.obj = pyo.Objective(expr = 5.5*model.x[1] + 2.1*model.x[2], sense=pyo.maximize)\n",
    "# Define the constraints\n",
    "model.Constraint1 = pyo.Constraint(expr = model.x[2] <= model.x[1] + 2)\n",
    "model.Constraint2 = pyo.Constraint(expr = 8*model.x[1] + 2*model.x[2] <= 17)\n",
    "# Print the model\n",
    "model.pprint()"
   ]
  },
  {
   "cell_type": "code",
   "execution_count": 6,
   "metadata": {},
   "outputs": [],
   "source": [
    "# Define the solver\n",
    "opt = pyo.SolverFactory('glpk')\n",
    "# Here we could use another solver, e.g. gurobi or cplex\n",
    "# opt = pyo.SolverFactory('gurobi')"
   ]
  },
  {
   "cell_type": "code",
   "execution_count": 8,
   "metadata": {
    "tags": []
   },
   "outputs": [],
   "source": [
    "# Here we solve the optimization problem, the option tee=True prints the solver output\n",
    "result_obj = opt.solve(model, tee=False)"
   ]
  },
  {
   "cell_type": "code",
   "execution_count": 10,
   "metadata": {
    "tags": []
   },
   "outputs": [
    {
     "output_type": "stream",
     "name": "stdout",
     "text": "Model Simple example LP, 47-779 QuIP\n\n  Variables:\n    x : Size=2, Index=x_index\n        Key : Lower : Value : Upper : Fixed : Stale : Domain\n          1 :     0 :   1.3 :  None : False : False : NonNegativeReals\n          2 :     0 :   3.3 :  None : False : False : NonNegativeReals\n\n  Objectives:\n    obj : Size=1, Index=None, Active=True\n        Key  : Active : Value\n        None :   True : 14.08\n\n  Constraints:\n    Constraint1 : Size=1\n        Key  : Lower : Body : Upper\n        None :  None :  0.0 :   0.0\n    Constraint2 : Size=1\n        Key  : Lower : Body : Upper\n        None :  None : 17.0 :  17.0\n"
    }
   ],
   "source": [
    "# Display solution of the problem\n",
    "model.display()"
   ]
  },
  {
   "cell_type": "markdown",
   "metadata": {},
   "source": [
    "We observe that the optimal solution of this problem is $x_1 = 1.3$, $x_2 = 3.3$, leading to a profit of $14.08$."
   ]
  },
  {
   "cell_type": "markdown",
   "metadata": {},
   "source": [
    "Now let's consider that only integer units of each product can be produced, namely\n",
    "$$\n",
    "\\max_{x_1, x_2} 5.5x_1 + 2.1x_2 \\\\\n",
    "s.t. x_2 \\leq x_1 + 2 \\\\\n",
    "8x_1 + 2x_2 \\leq 17 \\\\\n",
    "x_1, x_2 \\geq 0 \\\\\n",
    "x_1, x_2 \\in \\mathbb{Z}\n",
    "$$"
   ]
  },
  {
   "cell_type": "code",
   "execution_count": 16,
   "metadata": {
    "tags": []
   },
   "outputs": [
    {
     "output_type": "stream",
     "name": "stdout",
     "text": "1 Set Declarations\n    x_index : Size=1, Index=None, Ordered=Insertion\n        Key  : Dimen : Domain : Size : Members\n        None :     1 :    Any :    2 : {1, 2}\n\n1 Var Declarations\n    x : Size=2, Index=x_index\n        Key : Lower : Value : Upper : Fixed : Stale : Domain\n          1 :  None :  None :  None : False :  True : Integers\n          2 :  None :  None :  None : False :  True : Integers\n\n1 Objective Declarations\n    obj : Size=1, Index=None, Active=True\n        Key  : Active : Sense    : Expression\n        None :   True : maximize : 5.5*x[1] + 2.1*x[2]\n\n2 Constraint Declarations\n    Constraint1 : Size=1, Index=None, Active=True\n        Key  : Lower : Body              : Upper : Active\n        None :  -Inf : x[2] - (x[1] + 2) :   0.0 :   True\n    Constraint2 : Size=1, Index=None, Active=True\n        Key  : Lower : Body            : Upper : Active\n        None :  -Inf : 8*x[1] + 2*x[2] :  17.0 :   True\n\n5 Declarations: x_index x obj Constraint1 Constraint2\n"
    }
   ],
   "source": [
    "# Define the model\n",
    "model_int = pyo.ConcreteModel(name='Simple example IP, 47-779 QuIP')\n",
    "#Define the variables\n",
    "model_int.x = pyo.Var([1,2], domain=pyo.Integers)\n",
    "# Define the objective function\n",
    "model_int.obj = pyo.Objective(expr = 5.5*model_int.x[1] + 2.1*model_int.x[2], sense=pyo.maximize)\n",
    "# Define the constraints\n",
    "model_int.Constraint1 = pyo.Constraint(expr = model_int.x[2] <= model_int.x[1] + 2)\n",
    "model_int.Constraint2 = pyo.Constraint(expr = 8*model_int.x[1] + 2*model_int.x[2] <= 17)\n",
    "# Print the model\n",
    "model_int.pprint()"
   ]
  },
  {
   "cell_type": "code",
   "execution_count": 19,
   "metadata": {
    "tags": []
   },
   "outputs": [],
   "source": [
    "# Here we solve the optimization problem, the option tee=True prints the solver output\n",
    "result_obj_int = opt.solve(model_int, tee=False)"
   ]
  },
  {
   "cell_type": "code",
   "execution_count": 20,
   "metadata": {
    "tags": []
   },
   "outputs": [
    {
     "output_type": "stream",
     "name": "stdout",
     "text": "Model Simple example IP, 47-779 QuIP\n\n  Variables:\n    x : Size=2, Index=x_index\n        Key : Lower : Value : Upper : Fixed : Stale : Domain\n          1 :  None :   1.0 :  None : False : False : Integers\n          2 :  None :   3.0 :  None : False : False : Integers\n\n  Objectives:\n    obj : Size=1, Index=None, Active=True\n        Key  : Active : Value\n        None :   True :  11.8\n\n  Constraints:\n    Constraint1 : Size=1\n        Key  : Lower : Body : Upper\n        None :  None :  0.0 :   0.0\n    Constraint2 : Size=1\n        Key  : Lower : Body : Upper\n        None :  None : 14.0 :  17.0\n"
    }
   ],
   "source": [
    "model_int.display()"
   ]
  },
  {
   "cell_type": "code",
   "execution_count": null,
   "metadata": {},
   "outputs": [],
   "source": []
  }
 ]
}