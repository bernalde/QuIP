{
 "cells": [
  {
   "cell_type": "code",
   "execution_count": 1,
   "metadata": {},
   "outputs": [],
   "source": [
    "from sympy import *\n",
    "from scipy import linalg\n",
    "import numpy as np"
   ]
  },
  {
   "cell_type": "code",
   "execution_count": 2,
   "metadata": {},
   "outputs": [
    {
     "name": "stdout",
     "output_type": "stream",
     "text": [
      "Matrix([[4, 5, 1, 0], [2, 3, 0, 1]])\n"
     ]
    }
   ],
   "source": [
    "A = np.array([[4,5,1,0], [2,3,0,1]])\n",
    "A = Matrix(A)\n",
    "print(A)"
   ]
  },
  {
   "cell_type": "code",
   "execution_count": 3,
   "metadata": {},
   "outputs": [
    {
     "name": "stdout",
     "output_type": "stream",
     "text": [
      "[Matrix([\n",
      "[-3],\n",
      "[ 2],\n",
      "[ 2],\n",
      "[ 0]]), Matrix([\n",
      "[ 5],\n",
      "[-4],\n",
      "[ 0],\n",
      "[ 2]])]\n"
     ]
    }
   ],
   "source": [
    "# Find nullspace (kernel) of A\n",
    "ker = A.nullspace()\n",
    "\n",
    "# Normalize elements of kernel to be integers\n",
    "for i in range(len(ker)):\n",
    "    factor = 1;\n",
    "    for j in ker[i]:\n",
    "        if j%1 != 0:\n",
    "            factor = min(factor,j%1)\n",
    "    ker[i]=ker[i] / factor\n",
    "\n",
    "    \n",
    "print(ker)"
   ]
  },
  {
   "cell_type": "code",
   "execution_count": 4,
   "metadata": {},
   "outputs": [],
   "source": [
    "a, b = symbols('a b')"
   ]
  },
  {
   "cell_type": "code",
   "execution_count": 5,
   "metadata": {},
   "outputs": [
    {
     "data": {
      "text/plain": [
       "Matrix([\n",
       "[-3*a + 5*b],\n",
       "[ 2*a - 4*b],\n",
       "[       2*a],\n",
       "[       2*b]])"
      ]
     },
     "execution_count": 5,
     "metadata": {},
     "output_type": "execute_result"
    }
   ],
   "source": [
    "ker[0]*a + ker[1]*b"
   ]
  },
  {
   "cell_type": "code",
   "execution_count": 10,
   "metadata": {},
   "outputs": [],
   "source": [
    "# Define symbolic variables (index 0 in python but adjusted to match MAPLE)\n",
    "# sym_str = 'w:' + str(A.shape[1])\n",
    "sym_str = 'w1:' + str(A.shape[1]+1)\n",
    "ws = symbols(sym_str)"
   ]
  },
  {
   "cell_type": "code",
   "execution_count": 11,
   "metadata": {},
   "outputs": [],
   "source": [
    "def to_polynomial(coef,ws):\n",
    "    res1 = 1;\n",
    "    res2 = 1;\n",
    "    for i in range(len(coef)):\n",
    "        if coef[i] >= 0:\n",
    "            res1 = res1*ws[i]**coef[i]\n",
    "        else:\n",
    "            res2 = res2*ws[i]**(-coef[i])\n",
    "    res = res1 - res2\n",
    "    return res"
   ]
  },
  {
   "cell_type": "code",
   "execution_count": 12,
   "metadata": {},
   "outputs": [
    {
     "name": "stdout",
     "output_type": "stream",
     "text": [
      "[-w1**3 + w2**2*w3**2, w1**5*w4**2 - w2**4]\n"
     ]
    }
   ],
   "source": [
    "sys = []\n",
    "for k in ker:\n",
    "    sys.append(to_polynomial(k,ws))\n",
    "print(sys)"
   ]
  },
  {
   "cell_type": "code",
   "execution_count": 23,
   "metadata": {},
   "outputs": [
    {
     "name": "stdout",
     "output_type": "stream",
     "text": [
      "<class 'sympy.core.symbol.Symbol'>\n"
     ]
    },
    {
     "data": {
      "text/plain": [
       "[w1**3 - w2**2*w3**2,\n",
       " w1**2*w2**2*w3**2*w4**2 - w2**4,\n",
       " w1*w2**4 - w2**4*w3**4*w4**2,\n",
       " w2**6 - w2**4*w3**10*w4**6]"
      ]
     },
     "execution_count": 23,
     "metadata": {},
     "output_type": "execute_result"
    }
   ],
   "source": [
    "#Computing Groebner basis\n",
    "print(type(ws[1]))\n",
    "aresult = groebner(sys, ws[0], ws[1], ws[2], ws[3], order='lex')\n",
    "list(aresult)"
   ]
  },
  {
   "cell_type": "code",
   "execution_count": 24,
   "metadata": {},
   "outputs": [
    {
     "data": {
      "text/plain": [
       "[w1**5*w4**2 - w2**4, -w1**3 + w2**2*w3**2]"
      ]
     },
     "execution_count": 24,
     "metadata": {},
     "output_type": "execute_result"
    }
   ],
   "source": [
    "#Computing Groebner basis\n",
    "result = groebner(sys, ws[3], ws[2], ws[1], ws[0], order='lex')\n",
    "list(result)"
   ]
  },
  {
   "cell_type": "code",
   "execution_count": 25,
   "metadata": {},
   "outputs": [
    {
     "data": {
      "text/plain": [
       "[w1**5*w4**2 - w2**4, -w1**3 + w2**2*w3**2]"
      ]
     },
     "execution_count": 25,
     "metadata": {},
     "output_type": "execute_result"
    }
   ],
   "source": [
    "#Computing Groebner basis\n",
    "result = groebner(sys, ws[0], ws[1], ws[2], ws[3], order='grevlex')\n",
    "list(result)"
   ]
  },
  {
   "cell_type": "code",
   "execution_count": 26,
   "metadata": {},
   "outputs": [
    {
     "data": {
      "text/plain": [
       "[w1**5*w4**2 - w2**4, -w1**3 + w2**2*w3**2]"
      ]
     },
     "execution_count": 26,
     "metadata": {},
     "output_type": "execute_result"
    }
   ],
   "source": [
    "#Computing Groebner basis\n",
    "result = groebner(sys, ws[3], ws[2], ws[1], ws[0], order='grevlex')\n",
    "list(result)"
   ]
  },
  {
   "cell_type": "code",
   "execution_count": 27,
   "metadata": {},
   "outputs": [],
   "source": [
    "def get_powers(polys,ws):\n",
    "    for w in ws:\n",
    "        list(map(lambda p: degree(p,w),polys))\n",
    "    # https://docs.sympy.org/latest/tutorial/simplification.html"
   ]
  },
  {
   "cell_type": "code",
   "execution_count": 31,
   "metadata": {},
   "outputs": [
    {
     "name": "stdout",
     "output_type": "stream",
     "text": [
      "[2, 2, 4, 10]\n"
     ]
    }
   ],
   "source": [
    "print(list(map(lambda p: degree(p,ws[2]),aresult)))"
   ]
  },
  {
   "cell_type": "code",
   "execution_count": 76,
   "metadata": {},
   "outputs": [
    {
     "name": "stdout",
     "output_type": "stream",
     "text": [
      "True\n",
      "sign(w1**2*w3**2*w4**2)\n",
      "True\n"
     ]
    }
   ],
   "source": [
    "print(-1 in aresult[1].args[0].args)\n",
    "print(sign(aresult[1].coeff(ws[1],2)))\n",
    "print((aresult[1].coeff(ws[1],4)) == -1)"
   ]
  },
  {
   "cell_type": "code",
   "execution_count": null,
   "metadata": {},
   "outputs": [],
   "source": []
  }
 ],
 "metadata": {
  "kernelspec": {
   "display_name": "Python 3",
   "language": "python",
   "name": "python3"
  },
  "language_info": {
   "codemirror_mode": {
    "name": "ipython",
    "version": 3
   },
   "file_extension": ".py",
   "mimetype": "text/x-python",
   "name": "python",
   "nbconvert_exporter": "python",
   "pygments_lexer": "ipython3",
   "version": "3.7.1"
  }
 },
 "nbformat": 4,
 "nbformat_minor": 2
}
