{
 "cells": [
  {
   "cell_type": "code",
   "execution_count": 7,
   "metadata": {},
   "outputs": [],
   "source": [
    "from sympy import *"
   ]
  },
  {
   "cell_type": "code",
   "execution_count": 8,
   "metadata": {},
   "outputs": [],
   "source": [
    "z1, z2, w1, w2, w3,w4 = symbols('z1 z2 w1 w2 w3 w4')"
   ]
  },
  {
   "cell_type": "code",
   "execution_count": 10,
   "metadata": {},
   "outputs": [
    {
     "name": "stdout",
     "output_type": "stream",
     "text": [
      "-w1 + z1**4*z2**2\n",
      "-w2 + z1**5*z2**3\n",
      "-w3 + z1\n",
      "-w4 + z2\n"
     ]
    }
   ],
   "source": [
    "# Generation of the toric ideal  \n",
    "eqs = [z1**4* z2**2 -w1, z1**5* z2**3 -w2, z1-w3, z2-w4] \n",
    "for eq in eqs:\n",
    "    print eq"
   ]
  },
  {
   "cell_type": "code",
   "execution_count": 11,
   "metadata": {},
   "outputs": [
    {
     "data": {
      "text/plain": [
       "[-w3 + z1,\n",
       " -w4 + z2,\n",
       " -w1 + w3**4*w4**2,\n",
       " -w1**2 + w2*w3**3*w4,\n",
       " w1*w3*w4 - w2,\n",
       " w1**4*w4 - w2**3*w3,\n",
       " -w1**3 + w2**2*w3**2]"
      ]
     },
     "execution_count": 11,
     "metadata": {},
     "output_type": "execute_result"
    }
   ],
   "source": [
    "result = groebner(eqs,  z1, z2, w4, w3, w2,w1,  order='lex')\n",
    "list(result)"
   ]
  },
  {
   "cell_type": "code",
   "execution_count": 12,
   "metadata": {},
   "outputs": [
    {
     "name": "stdout",
     "output_type": "stream",
     "text": [
      "z1**37*z2**20\n",
      "w3**37*w4**20\n",
      "w1**9*w3*w4**2\n",
      "w1**9*w3*w4**2\n",
      "w1**8*w2*w4\n",
      "w1**4*w2**4*w3\n",
      "w1**4*w2**4*w3\n"
     ]
    }
   ],
   "source": [
    "# normal form of z1**37*z2**20 wrt to GB \n",
    "# total degree decreases \n",
    "r = z1**37*z2**20\n",
    "print r\n",
    "r = r.subs({(z1, w3), (z2, w4)})\n",
    "print r\n",
    "r = r.subs({(w3**4*w4**2, w1)})\n",
    "print r\n",
    "r = r.subs({(w2*w3**3*w4, w1**2)})\n",
    "print r\n",
    "r = r.subs({(w1*w3*w4, w2)})\n",
    "print r\n",
    "r = r.subs({( w1**4*w4, w2**3*w3)})\n",
    "print r\n",
    "r = r.subs({(w2**2*w3**2, w1**3)})\n",
    "print r"
   ]
  },
  {
   "cell_type": "code",
   "execution_count": null,
   "metadata": {},
   "outputs": [],
   "source": []
  }
 ],
 "metadata": {
  "kernelspec": {
   "display_name": "Python 2",
   "language": "python",
   "name": "python2"
  },
  "language_info": {
   "codemirror_mode": {
    "name": "ipython",
    "version": 2
   },
   "file_extension": ".py",
   "mimetype": "text/x-python",
   "name": "python",
   "nbconvert_exporter": "python",
   "pygments_lexer": "ipython2",
   "version": "2.7.14"
  }
 },
 "nbformat": 4,
 "nbformat_minor": 2
}
