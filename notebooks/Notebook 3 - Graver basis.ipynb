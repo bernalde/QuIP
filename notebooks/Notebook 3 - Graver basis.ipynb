{
 "metadata": {
  "language_info": {
   "codemirror_mode": {
    "name": "ipython",
    "version": 3
   },
   "file_extension": ".py",
   "mimetype": "text/x-python",
   "name": "python",
   "nbconvert_exporter": "python",
   "pygments_lexer": "ipython3",
   "version": "3.7.7-final"
  },
  "orig_nbformat": 2,
  "kernelspec": {
   "name": "python_defaultSpec_1599771512146",
   "display_name": "Python 3.7.7 64-bit ('xomibm': conda)"
  }
 },
 "nbformat": 4,
 "nbformat_minor": 2,
 "cells": [
  {
   "cell_type": "markdown",
   "metadata": {},
   "source": [
    "# Quantum Integer Programming (QuIP) 47-779. Fall 2020, CMU"
   ]
  },
  {
   "cell_type": "markdown",
   "metadata": {},
   "source": [
    "This notebook contains material from the Quantum Integer Programming Lecture at CMU Fall 2020 by David Bernal (bernalde at cmu.edu), Sridhar Tayur (stayur at cmu.edu) and Davide Venturelli; the content is available on **[Github](https://github.com/bernalde/QuIP)**. The text is released under the **[CC-BY-NC-ND-4.0](https://creativecommons.org/licenses/by-nc-nd/4.0/legalcode) license, and code is released under the **[MIT license](https://opensource.org/licenses/MIT).*\n",
    "\n",
    "This notebook makes simple computations of Graver basis. Because of the complexity of these computation, we suggest that for more complicated problems you install the excellent **[4ti2](https://4ti2.github.io/)** software, an open-source implementation of several routines useful for the study of integer programming through algebraic geometry. It can be used as a stand-alone library and call it from C++ or from Python. In python, there are two ways of accessing it, either through **[Sage](https://www.sagemath.org/)** (which is an open-source mathematics software) or directly compiling it and installing a thing **[Python wrapper](https://github.com/alfsan/Py4ti2)**\n",
    "\n",
    "Run in **[Google Colab](https://colab.research.google.com/github/bernalde/QuIP/blob/master/notebooks/Notebook%203%20-%20Graver%20basis.ipynb)**"
   ]
  },
  {
   "cell_type": "markdown",
   "metadata": {},
   "source": [
    "## Introduction to Graver basis computation\n",
    "### To be modified"
   ]
  },
  {
   "cell_type": "code",
   "execution_count": 1,
   "metadata": {},
   "outputs": [],
   "source": [
    "# If using this on Google collab, if not we can import 4ti2\n",
    "try:\n",
    "  import google.colab\n",
    "  IN_COLAB = True\n",
    "except:\n",
    "  IN_COLAB = False\n",
    "\n",
    "# Let's start with Pyomo\n",
    "if not IN_COLAB:\n",
    "    from Py4ti2int32 import *"
   ]
  },
  {
   "cell_type": "code",
   "execution_count": 2,
   "metadata": {},
   "outputs": [],
   "source": [
    "from sympy import *\n",
    "import networkx as nx\n",
    "import matplotlib.pyplot as plt\n",
    "import numpy as np\n",
    "from typing import Callable\n",
    "import itertools"
   ]
  },
  {
   "cell_type": "code",
   "execution_count": 3,
   "metadata": {},
   "outputs": [],
   "source": [
    "# Fist example\n",
    "A = np.array([[1, 1, 1, 1], [1, 5, 10, 25]])\n",
    "b = np.array([[21],[156]])\n",
    "\n",
    "# Second example\n",
    "# A = np.array([[1, 1, 1, 1], [1, 2, 3, 4]])\n",
    "# b = np.array([[10], [21]])\n",
    "# c = np.array([0, 1, 0, 2])\n",
    "\n",
    "# Third example\n",
    "# A = np.array([[1, 1, 1, 1], [0, 1, 2, 3]])\n",
    "# b = np.array([[10],[15]])\n",
    "# c = np.array([1, 3, 14, 17])\n",
    "\n",
    "# Fourth example\n",
    "# A = np.array([[1,1,1,1,1,1,1,1,1,1,0,1,0,1,0,1,0,1,1,1,0,1,0,1,0],\n",
    "# [1,1,1,1,0,1,0,1,0,0,1,0,0,0,1,0,0,1,0,1,1,1,1,1,1],\n",
    "# [0,1,0,0,0,1,0,1,0,1,1,0,1,1,0,1,1,0,0,1,0,0,1,1,1],\n",
    "# [0,0,0,0,0,0,0,1,0,1,1,1,0,1,1,1,1,0,0,1,0,0,0,0,0],\n",
    "# [0,1,1,1,1,1,0,0,0,1,0,0,0,1,0,0,0,0,0,1,0,1,0,1,0]])\n",
    "# b = np.array([[9], [8], [7], [5], [5]])\n",
    "if not IN_COLAB:\n",
    "    r = graver(\"mat\", A.tolist())\n",
    "else:\n",
    "    r = [[5, -6, 0, 1], [5, -9, 4, 0], [0, 3, -4, 1], [5, -3, -4, 2], [5, 0, -8, 3]]\n",
    "# print(r)\n",
    "r = np.array(r)"
   ]
  },
  {
   "cell_type": "code",
   "execution_count": 4,
   "metadata": {
    "tags": []
   },
   "outputs": [
    {
     "output_type": "stream",
     "name": "stdout",
     "text": "[ 21 156]\n[[ 21 156]]\nTrue\n"
    }
   ],
   "source": [
    "x0 = np.array([1,15,3,2])\n",
    "# x0 = np.array([1,8,0,1])\n",
    "# x0 = np.array([3,0,6,1])\n",
    "# x0 = np.array([1, 1, 1, 1, -1, 1, 1, 1, 1, 1, 1, 1, -2,\n",
    "#                1, 0, -1, 0, 1, -1, 1, -2, -2, 1, 1, 1])\n",
    "\n",
    "x_lo = -2*np.ones_like(x0)\n",
    "x_up = 2*np.ones_like(x0)\n",
    "print(np.dot(A,x0))\n",
    "print(b.transpose())\n",
    "print(np.array_equiv(np.dot(A, x0), b.T))\n"
   ]
  },
  {
   "cell_type": "code",
   "execution_count": 5,
   "metadata": {
    "tags": []
   },
   "outputs": [
    {
     "output_type": "stream",
     "name": "stdout",
     "text": "[0.54713288 0.33800584 0.0667273  0.30760454]\n[0.35235475 0.13878311 0.04155517 0.07482565]\n"
    }
   ],
   "source": [
    "# Objective function definition\n",
    "\n",
    "epsilon = 0.01\n",
    "mu = np.random.rand(len(x0))\n",
    "sigma = np.multiply(np.random.rand(len(x0)),mu)\n",
    "print(mu)\n",
    "print(sigma)\n",
    "def f(x):\n",
    "    return np.sum(np.abs(x - 5))\n",
    "    # return np.dot(c,x)\n",
    "    # return -np.dot(mu, x) + np.sqrt(((1-epsilon)/epsilon)*np.dot(sigma**2, x**2))\n",
    "\n",
    "def const(x):\n",
    "    return np.array_equiv(np.dot(A,x),b.T) or np.array_equiv(np.dot(A,x),b)\n"
   ]
  },
  {
   "cell_type": "code",
   "execution_count": 6,
   "metadata": {
    "tags": []
   },
   "outputs": [],
   "source": [
    "# Define rules to choose augmentation element, either the best one (argmin) or the first one that is found\n",
    "def argmin(iterable):\n",
    "    return min(enumerate(iterable), key=lambda x: x[1])\n",
    "\n",
    "def greedy(iterable):\n",
    "    for i, val in enumerate(iterable):\n",
    "        if val[1] != 0:\n",
    "            return i, val\n",
    "    else:\n",
    "        return i, val"
   ]
  },
  {
   "cell_type": "code",
   "execution_count": 7,
   "metadata": {},
   "outputs": [],
   "source": [
    "# Bisection rules for finding best step size\n",
    "def bisection(g: np.ndarray, fun: Callable, x: np.ndarray, x_lo: np.ndarray = None, x_up: np.ndarray = None, laststep: np.ndarray = None) -> (float, int):\n",
    "    if np.array_equal(g, laststep):\n",
    "        return (fun(x), 0)\n",
    "    if x_lo is None:\n",
    "        x_lo = np.zeros_like(x)\n",
    "    if x_up is None:\n",
    "        x_up = np.ones_like(x)*max(x)*2\n",
    "\n",
    "    u = max(x_up) - min(x_lo)\n",
    "    l = -(max(x_up) - min(x_lo))\n",
    "    for i, gi in enumerate(g):\n",
    "        if gi >= 1:\n",
    "            if np.floor((x_up[i] - x[i]) / gi) < u:\n",
    "                u = int(np.floor((x_up[i] - x[i]) / gi))\n",
    "            if np.ceil((x_lo[i] - x[i]) / gi) > l:\n",
    "                l = int(np.ceil((x_lo[i] - x[i]) / gi))\n",
    "        elif gi <= -1:\n",
    "            if np.ceil((x_up[i] - x[i]) / gi) > l:\n",
    "                l = int(np.ceil((x_up[i] - x[i]) / gi))\n",
    "            if np.floor((x_lo[i] - x[i]) / gi) < u:\n",
    "                u = int(np.floor((x_lo[i] - x[i]) / gi))\n",
    "    alpha = u\n",
    "\n",
    "    while u - l > 1:\n",
    "        if fun(x + l*g) < fun(x + u*g):\n",
    "            alpha = l\n",
    "        else:\n",
    "            alpha = u\n",
    "        p1 = int(np.floor((l+u)/2) - 1)\n",
    "        p2 = int(np.floor((l+u)/2))\n",
    "        p3 = int(np.floor((l+u)/2) + 1)\n",
    "        if fun(x + p1*g) < fun(x + p2*g):\n",
    "            u = int(np.floor((l+u)/2))\n",
    "        elif fun(x + p3*g) < fun(x + p2*g):\n",
    "            l = int(np.floor((l+u)/2) + 1)\n",
    "        else:\n",
    "            alpha = p2\n",
    "            break\n",
    "\n",
    "    if fun(x + l*g) < fun(x + u*g) and fun(x + l*g) < fun(x + alpha*g):\n",
    "        alpha = l\n",
    "    elif fun(x + u*g) < fun(x + alpha*g):\n",
    "        alpha = u\n",
    "\n",
    "    return (fun(x + alpha*g), alpha)"
   ]
  },
  {
   "cell_type": "code",
   "execution_count": 8,
   "metadata": {},
   "outputs": [],
   "source": [
    "# We can just have a single step move (works well with greedy approach)\n",
    "def single_move(g: np.ndarray, fun: Callable, x: np.ndarray, x_lo: np.ndarray = None, x_up: np.ndarray = None, laststep: np.ndarray = None) -> (float, int):\n",
    "    if x_lo is None:\n",
    "        x_lo = np.zeros_like(x)\n",
    "    if x_up is None:\n",
    "        x_up = np.ones_like(x)*max(x)*2\n",
    "\n",
    "    alpha = 0\n",
    "\n",
    "    if (x + g <= x_up).all() and (x + g >= x_lo).all():\n",
    "        if fun(x + g) < fun(x):\n",
    "            alpha = 1\n",
    "    elif (x - g <= x_up).all() and (x - g >= x_lo).all():\n",
    "        if fun(x - g) < fun(x) and fun(x - g) < fun(x + g):\n",
    "            alpha = -1\n",
    "    \n",
    "    return (fun(x + alpha*g), alpha)"
   ]
  },
  {
   "cell_type": "code",
   "execution_count": 9,
   "metadata": {
    "tags": []
   },
   "outputs": [
    {
     "output_type": "stream",
     "name": "stdout",
     "text": "iteration\n[ 1 15  3  2]\n0 (19, 0)\n[ 1 15  3  2]\nTrue\n0\n"
    }
   ],
   "source": [
    "# Let's perform the augmentation\n",
    "dist = 1\n",
    "gprev = None\n",
    "while dist != 0:\n",
    "    g1, (obj, dist) = argmin(\n",
    "        bisection(e, f, x0, laststep=gprev, x_lo=x_lo, x_up=x_up) for e in r)\n",
    "\n",
    "    # g1, (obj, dist) = greedy(\n",
    "    #     bisection(e, f, x0, laststep=gprev, x_lo=x_lo, x_up=x_up) for e in r)\n",
    "    # g1, (obj, dist) = greedy(\n",
    "    #     single_move(e, f, x0, x_lo=x_lo, x_up=x_up) for e in r)\n",
    "    print('iteration')\n",
    "    print(x0)\n",
    "    x0 = x0 + r[g1]*dist\n",
    "    gprev = r[g1]\n",
    "    print(g1, (obj, dist))\n",
    "    print(x0)\n",
    "    print(const(x0))\n",
    "    print(dist)"
   ]
  },
  {
   "cell_type": "code",
   "execution_count": null,
   "metadata": {},
   "outputs": [],
   "source": []
  }
 ]
}